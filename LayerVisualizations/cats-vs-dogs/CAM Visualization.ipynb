{
 "cells": [
  {
   "cell_type": "markdown",
   "id": "da1e3c9c",
   "metadata": {},
   "source": [
    "## Class Activation Map Visualization"
   ]
  },
  {
   "cell_type": "markdown",
   "id": "3b851bd4",
   "metadata": {},
   "source": [
    "### Visualization Function"
   ]
  },
  {
   "cell_type": "code",
   "execution_count": 9,
   "id": "13e5e940",
   "metadata": {},
   "outputs": [],
   "source": [
    "# Import Statements\n",
    "\n",
    "from keras.models import *\n",
    "import keras.backend as K\n",
    "import cv2\n",
    "import numpy as np\n",
    "from keras.models import Sequential\n",
    "from keras.layers import Conv2D, MaxPooling2D\n",
    "from keras.layers import Activation, Dropout, Dense, Lambda\n",
    "import os\n",
    "\n",
    "\n",
    "#Visualization\n",
    "def visualize_class_activation_map(model, test_img_path,output_path,target_class):\n",
    "        #Read original image\n",
    "        original_img = cv2.imread(test_img_path, 1)\n",
    "        \n",
    "        #Resize image to pass through the model (not necessary)\n",
    "        img = cv2.resize(original_img,(150,150))\n",
    "        width, height, _ = img.shape\n",
    "\n",
    "        #Expand dims to create a batch of size 1\n",
    "        batch_img = np.expand_dims(img,axis=0)\n",
    "        \n",
    "        #Get weights to the final dense layer feeding to softmax\n",
    "        class_weights = model.layers[-1].get_weights()[0]\n",
    "        \n",
    "        #Get final convolutional layer , in this case the maxpool layer\n",
    "        final_conv_layer = model.layers[-3]\n",
    "        \n",
    "        #Get output of the selected layers given input image\n",
    "        get_output = K.function([model.layers[0].input], [final_conv_layer.output, model.layers[-1].output])\n",
    "        [conv_outputs, predictions] = get_output([batch_img])\n",
    "        \n",
    "        #Pick the conv_outputs of the one and only image\n",
    "        conv_outputs = conv_outputs[0, :, :, :]\n",
    "\n",
    "        #Create the class activation map.\n",
    "        cam = np.zeros(dtype = np.float32, shape = conv_outputs.shape[0:2])\n",
    "        \n",
    "        #target_class defines the weight to select when working on activation maps (0 for cats, 1 for dogs)\n",
    "        for i, w in enumerate(class_weights[:,target_class]):\n",
    "            cam += w * conv_outputs[:, :,i]\n",
    "            \n",
    "        \n",
    "        cam /= np.max(cam)\n",
    "        cam = cv2.resize(cam, (height, width))\n",
    "        heatmap = cv2.applyColorMap(np.uint8(255*cam), cv2.COLORMAP_JET)\n",
    "        heatmap[np.where(cam < 0.2)] = 0\n",
    "        img = heatmap*0.5 + img\n",
    "        \n",
    "        #Save CAM\n",
    "        cv2.imwrite(output_path, img)"
   ]
  },
  {
   "cell_type": "markdown",
   "id": "a6189b2d",
   "metadata": {},
   "source": [
    "### Defining and loading model"
   ]
  },
  {
   "cell_type": "code",
   "execution_count": 10,
   "id": "2f3a0da2",
   "metadata": {},
   "outputs": [],
   "source": [
    "# dimensions of our images.\n",
    "img_width, img_height = 150, 150\n",
    "\n",
    "if K.image_data_format() == 'channels_first':\n",
    "    input_shape = (3, img_width, img_height)\n",
    "else:\n",
    "    input_shape = (img_width, img_height, 3)\n",
    "    \n",
    "#Helper functions to define model\n",
    "def global_average_pooling(x):\n",
    "    return K.mean(x, axis = (1, 2))\n",
    "\n",
    "def global_average_pooling_shape(input_shape):\n",
    "    return input_shape[0:2]\n",
    "\n",
    "#Defining Model\n",
    "model = Sequential()\n",
    "model.add(Conv2D(32, (3, 3), input_shape=input_shape,activation='relu'))\n",
    "model.add(MaxPooling2D(pool_size=(2, 2)))\n",
    "\n",
    "model.add(Conv2D(32, (3, 3),activation='relu'))\n",
    "model.add(MaxPooling2D(pool_size=(2, 2)))\n",
    "\n",
    "model.add(Conv2D(64, (3, 3),activation='relu'))\n",
    "model.add(MaxPooling2D(pool_size=(2, 2)))\n",
    "\n",
    "model.add(Conv2D(64, (3, 3),activation='relu'))\n",
    "model.add(MaxPooling2D(pool_size=(2, 2)))\n",
    "\n",
    "model.add(Lambda(global_average_pooling, \n",
    "              output_shape=global_average_pooling_shape))\n",
    "model.add(Dense(2, activation = 'softmax'))\n",
    "\n",
    "model.compile(loss='categorical_crossentropy',\n",
    "              optimizer='rmsprop',\n",
    "              metrics=['accuracy'])\n",
    "\n",
    "\n",
    "#Since we have a trained model, load the model weights\n",
    "model_path = 'weights/weights.50-0.43.h5' \n",
    "model.load_weights(model_path)\n",
    "\n",
    "#Dog CAM\n",
    "path = 'data/train/dogs'\n",
    "images = os.listdir(path)\n",
    "index = np.random.randint(0,len(images))\n",
    "img_path = os.path.join(path,images[index])\n",
    "\n",
    "visualize_class_activation_map(model,img_path,'CAM/dog.png',1)\n",
    "\n",
    "#Cat CAM\n",
    "path = 'data/train/cats'\n",
    "images = os.listdir(path)\n",
    "index = np.random.randint(0,len(images))\n",
    "img_path = os.path.join(path,images[index])\n",
    "\n",
    "visualize_class_activation_map(model,img_path,'CAM/cat.png',0)\n"
   ]
  },
  {
   "cell_type": "markdown",
   "id": "05317d6c",
   "metadata": {},
   "source": [
    "### CAM for randomly selected dog image\n",
    "\n",
    "We can see our network is looking at the image and paying attention to its face, and the tail region to make a decision "
   ]
  },
  {
   "cell_type": "markdown",
   "id": "eb393f22",
   "metadata": {},
   "source": [
    "![title](CAM/dog2.png)"
   ]
  },
  {
   "cell_type": "markdown",
   "id": "c9110c1d",
   "metadata": {},
   "source": [
    "### CAM for randomly selected cat image\n",
    "\n",
    "We can see our network is looking at the image and paying attention to its face region to make a decision "
   ]
  },
  {
   "cell_type": "markdown",
   "id": "119f649d",
   "metadata": {},
   "source": [
    "![title](CAM/cat2.png)"
   ]
  }
 ],
 "metadata": {
  "kernelspec": {
   "display_name": "mlenv",
   "language": "python",
   "name": "mlenv"
  },
  "language_info": {
   "codemirror_mode": {
    "name": "ipython",
    "version": 3
   },
   "file_extension": ".py",
   "mimetype": "text/x-python",
   "name": "python",
   "nbconvert_exporter": "python",
   "pygments_lexer": "ipython3",
   "version": "3.8.10"
  }
 },
 "nbformat": 4,
 "nbformat_minor": 5
}
