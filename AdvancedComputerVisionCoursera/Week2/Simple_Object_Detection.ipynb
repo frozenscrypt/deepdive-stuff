{
  "nbformat": 4,
  "nbformat_minor": 0,
  "metadata": {
    "colab": {
      "name": "Simple Object Detection.ipynb",
      "provenance": []
    },
    "kernelspec": {
      "name": "python3",
      "display_name": "Python 3"
    },
    "language_info": {
      "name": "python"
    }
  },
  "cells": [
    {
      "cell_type": "code",
      "metadata": {
        "id": "jt62pUEMKQkN"
      },
      "source": [
        "import tensorflow as tf\n",
        "import tensorflow_hub as hub\n",
        "from PIL import Image\n",
        "from PIL import ImageOps\n",
        "import tempfile\n",
        "from six.moves.urllib.request import urlopen\n",
        "from six import BytesIO"
      ],
      "execution_count": 1,
      "outputs": []
    },
    {
      "cell_type": "code",
      "metadata": {
        "id": "Esh-PKVGMO2L"
      },
      "source": [
        "def download_and_resize_image(url, new_width=256, new_height=256):\n",
        "    '''\n",
        "    Fetches an image online, resizes it and saves it locally.\n",
        "    \n",
        "    Args:\n",
        "        url (string) -- link to the image\n",
        "        new_width (int) -- size in pixels used for resizing the width of the image\n",
        "        new_height (int) -- size in pixels used for resizing the length of the image\n",
        "        \n",
        "    Returns:\n",
        "        (string) -- path to the saved image\n",
        "    '''\n",
        "    \n",
        "    \n",
        "    # create a temporary file ending with \".jpg\"\n",
        "    _, filename = tempfile.mkstemp(suffix=\".jpg\")\n",
        "    \n",
        "    # opens the given URL\n",
        "    response = urlopen(url)\n",
        "    \n",
        "    # reads the image fetched from the URL\n",
        "    image_data = response.read()\n",
        "    \n",
        "    # puts the image data in memory buffer\n",
        "    image_data = BytesIO(image_data)\n",
        "    \n",
        "    # opens the image\n",
        "    pil_image = Image.open(image_data)\n",
        "    \n",
        "    # resizes the image. will crop if aspect ratio is different.\n",
        "    pil_image = ImageOps.fit(pil_image, (new_width, new_height), Image.ANTIALIAS)\n",
        "    \n",
        "    # converts to the RGB colorspace\n",
        "    pil_image_rgb = pil_image.convert(\"RGB\")\n",
        "    \n",
        "    # saves the image to the temporary file created earlier\n",
        "    pil_image_rgb.save(filename, format=\"JPEG\", quality=90)\n",
        "    \n",
        "    print(\"Image downloaded to %s.\" % filename)\n",
        "    \n",
        "    return filename"
      ],
      "execution_count": 2,
      "outputs": []
    },
    {
      "cell_type": "code",
      "metadata": {
        "id": "5pmu7QtWMR-Q"
      },
      "source": [
        "# you can switch the commented lines here to pick the other model\n",
        "\n",
        "# inception resnet version 2\n",
        "module_handle = \"https://tfhub.dev/google/faster_rcnn/openimages_v4/inception_resnet_v2/1\"\n",
        "\n",
        "# You can choose ssd mobilenet version 2 instead and compare the results\n",
        "#module_handle = \"https://tfhub.dev/google/openimages_v4/ssd/mobilenet_v2/1\""
      ],
      "execution_count": 3,
      "outputs": []
    },
    {
      "cell_type": "code",
      "metadata": {
        "colab": {
          "base_uri": "https://localhost:8080/"
        },
        "id": "mReEPaFUMWZz",
        "outputId": "5e251961-0494-4d3a-e368-5218c1922774"
      },
      "source": [
        "model = hub.load(module_handle)"
      ],
      "execution_count": 4,
      "outputs": [
        {
          "output_type": "stream",
          "text": [
            "INFO:tensorflow:Saver not created because there are no variables in the graph to restore\n"
          ],
          "name": "stdout"
        },
        {
          "output_type": "stream",
          "text": [
            "INFO:tensorflow:Saver not created because there are no variables in the graph to restore\n"
          ],
          "name": "stderr"
        }
      ]
    },
    {
      "cell_type": "code",
      "metadata": {
        "colab": {
          "base_uri": "https://localhost:8080/"
        },
        "id": "TFPf-xAnNQse",
        "outputId": "e392fe77-b577-413a-e0d4-31d26b8a2816"
      },
      "source": [
        "model.signatures.keys()"
      ],
      "execution_count": 5,
      "outputs": [
        {
          "output_type": "execute_result",
          "data": {
            "text/plain": [
              "KeysView(_SignatureMap({'default': <ConcreteFunction pruned(images) at 0x7FBE401B6650>}))"
            ]
          },
          "metadata": {
            "tags": []
          },
          "execution_count": 5
        }
      ]
    },
    {
      "cell_type": "code",
      "metadata": {
        "id": "reU8OoIUNTU1"
      },
      "source": [
        "detector = model.signatures['default']"
      ],
      "execution_count": 6,
      "outputs": []
    },
    {
      "cell_type": "code",
      "metadata": {
        "colab": {
          "base_uri": "https://localhost:8080/"
        },
        "id": "gb9RmDRYNXjz",
        "outputId": "49f8ea1e-f0e0-482f-9e86-6cc2a311eca0"
      },
      "source": [
        "# You can choose a different URL that points to an image of your choice\n",
        "image_url = \"https://upload.wikimedia.org/wikipedia/commons/f/fb/20130807_dublin014.JPG\"\n",
        "\n",
        "# download the image and use the original height and width\n",
        "downloaded_image_path = download_and_resize_image(image_url, 3872, 2592)"
      ],
      "execution_count": 7,
      "outputs": [
        {
          "output_type": "stream",
          "text": [
            "Image downloaded to /tmp/tmppjm2wj0_.jpg.\n"
          ],
          "name": "stdout"
        }
      ]
    },
    {
      "cell_type": "code",
      "metadata": {
        "id": "eqTDF9oONcYN"
      },
      "source": [
        "def load_img(path):\n",
        "    '''\n",
        "    Loads a JPEG image and converts it to a tensor.\n",
        "    \n",
        "    Args:\n",
        "        path (string) -- path to a locally saved JPEG image\n",
        "    \n",
        "    Returns:\n",
        "        (tensor) -- an image tensor\n",
        "    '''\n",
        "    \n",
        "    # read the file\n",
        "    img = tf.io.read_file(path)\n",
        "    \n",
        "    # convert to a tensor\n",
        "    img = tf.image.decode_jpeg(img, channels=3)\n",
        "    \n",
        "    return img"
      ],
      "execution_count": 8,
      "outputs": []
    },
    {
      "cell_type": "code",
      "metadata": {
        "id": "cHzginwuNgvn"
      },
      "source": [
        "def run_detector(detector,path):\n",
        "  img = load_img(path)\n",
        "\n",
        "  converted_img = tf.image.convert_image_dtype(img,tf.float32)[tf.newaxis,...]\n",
        "  result = detector(converted_img)\n",
        "\n",
        "  result = {key:value.numpy() for key,value in result.items()}\n",
        "\n",
        "  # print results\n",
        "  print(\"Found %d objects.\" % len(result[\"detection_scores\"]))\n",
        "\n",
        "  print(result[\"detection_scores\"])\n",
        "  print(result[\"detection_class_entities\"])\n",
        "  print(result[\"detection_boxes\"])"
      ],
      "execution_count": 11,
      "outputs": []
    },
    {
      "cell_type": "code",
      "metadata": {
        "colab": {
          "base_uri": "https://localhost:8080/"
        },
        "id": "eBLzFU1rOCQY",
        "outputId": "5e0b957e-b49e-480f-c62c-2e98d2b1bcdc"
      },
      "source": [
        "run_detector(detector,downloaded_image_path)"
      ],
      "execution_count": 12,
      "outputs": [
        {
          "output_type": "stream",
          "text": [
            "Found 100 objects.\n",
            "[0.65321743 0.6105046  0.6015251  0.59255654 0.5917774  0.5815494\n",
            " 0.5505317  0.495756   0.47424808 0.47322178 0.44066453 0.405114\n",
            " 0.39803833 0.39406568 0.37148643 0.36156058 0.36150774 0.34689203\n",
            " 0.3336231  0.3125288  0.28877988 0.257584   0.25748932 0.25196046\n",
            " 0.2478206  0.23412406 0.2043204  0.20324677 0.17988251 0.17964818\n",
            " 0.1737451  0.1643149  0.16031115 0.15895244 0.15620375 0.15468794\n",
            " 0.14754476 0.1362262  0.12740143 0.12555654 0.12102691 0.11813018\n",
            " 0.11387325 0.11229103 0.11129177 0.09718708 0.09137247 0.08976\n",
            " 0.08880243 0.08633528 0.08337455 0.0809516  0.07988811 0.07741416\n",
            " 0.07732146 0.07631036 0.07507854 0.07386072 0.07233327 0.07204052\n",
            " 0.07110188 0.06935578 0.06825594 0.06427866 0.06248543 0.06226372\n",
            " 0.0621115  0.05940033 0.05798788 0.05784449 0.05725611 0.05346696\n",
            " 0.05304365 0.05242864 0.04892578 0.04813037 0.04578469 0.04424176\n",
            " 0.04337554 0.0427781  0.04262635 0.04163501 0.0408176  0.03976011\n",
            " 0.03945978 0.03944282 0.03863983 0.03769045 0.03759591 0.03566739\n",
            " 0.03359382 0.03333247 0.03275885 0.0323158  0.03134295 0.02978723\n",
            " 0.02858374 0.02856124 0.0282233  0.02787886]\n",
            "[b'Person' b'Person' b'Person' b'Person' b'Footwear' b'Person' b'Building'\n",
            " b'Bicycle' b'Window' b'Building' b'Person' b'Wheel' b'Building'\n",
            " b'Building' b'Person' b'Wheel' b'Building' b'Window' b'Window'\n",
            " b'Building' b'Person' b'Van' b'Person' b'Bicycle wheel' b'Person'\n",
            " b'Window' b'Window' b'Bicycle' b'Building' b'Window' b'Window' b'Man'\n",
            " b'Person' b'Person' b'Woman' b'Clothing' b'Bicycle wheel' b'Window'\n",
            " b'Person' b'Window' b'Land vehicle' b'Land vehicle' b'Clothing'\n",
            " b'Bicycle' b'Window' b'House' b'Land vehicle' b'Land vehicle' b'House'\n",
            " b'Man' b'Window' b'Clothing' b'Footwear' b'Person' b'Window' b'Man'\n",
            " b'Man' b'House' b'Person' b'Building' b'Clothing' b'Window' b'Person'\n",
            " b'Jeans' b'Man' b'Furniture' b'Person' b'Person' b'Person'\n",
            " b'Land vehicle' b'Person' b'Window' b'House' b'Woman' b'Window' b'Man'\n",
            " b'Person' b'Man' b'Clothing' b'Bicycle' b'Man' b'Person' b'Window'\n",
            " b'Person' b'Car' b'Man' b'Car' b'Chair' b'House' b'Window' b'Clothing'\n",
            " b'Tire' b'Clothing' b'Window' b'Land vehicle' b'Window' b'Man' b'Window'\n",
            " b'Bus' b'Clothing']\n",
            "[[5.12787819e-01 5.29258847e-01 6.01622522e-01 5.52077651e-01]\n",
            " [5.19631088e-01 6.01512730e-01 6.46177113e-01 6.34626746e-01]\n",
            " [5.05507112e-01 5.00440836e-01 6.01288378e-01 5.23084342e-01]\n",
            " [4.86331582e-01 4.12729561e-01 6.78829789e-01 4.59919751e-01]\n",
            " [8.15191388e-01 9.56122220e-01 8.42702985e-01 9.87146080e-01]\n",
            " [4.95409906e-01 9.23548341e-01 8.35687816e-01 9.99051571e-01]\n",
            " [1.14792129e-02 1.22223590e-02 7.38669753e-01 4.24632907e-01]\n",
            " [5.77677429e-01 3.66453379e-01 7.12771595e-01 4.83375698e-01]\n",
            " [0.00000000e+00 1.19262353e-01 2.23896131e-01 1.83930472e-01]\n",
            " [7.74121359e-02 4.12998140e-01 5.79539895e-01 5.60446203e-01]\n",
            " [5.13818145e-01 7.48031437e-01 5.91993213e-01 7.66611218e-01]\n",
            " [6.32137895e-01 3.59925479e-01 7.03870296e-01 4.11826164e-01]\n",
            " [0.00000000e+00 7.97051966e-01 6.73368454e-01 1.00000000e+00]\n",
            " [1.60234068e-02 6.84869528e-01 5.58761537e-01 8.11168015e-01]\n",
            " [5.00276923e-01 3.76966298e-01 6.33272946e-01 4.14501339e-01]\n",
            " [6.40540302e-01 4.45089400e-01 7.02983499e-01 4.83437657e-01]\n",
            " [0.00000000e+00 2.19054192e-01 6.60401046e-01 4.33263481e-01]\n",
            " [1.93079631e-03 0.00000000e+00 1.39376864e-01 2.62956936e-02]\n",
            " [2.57197698e-03 9.66668665e-01 1.53728664e-01 1.00000000e+00]\n",
            " [5.57250984e-04 1.52055710e-03 7.65210569e-01 2.69977212e-01]\n",
            " [5.04524827e-01 3.61187756e-01 6.34731770e-01 3.85342211e-01]\n",
            " [4.83405828e-01 6.19650841e-01 5.62705755e-01 6.61556125e-01]\n",
            " [4.98067319e-01 3.64576191e-01 6.61239445e-01 4.04972345e-01]\n",
            " [6.31278813e-01 3.60364169e-01 7.04153776e-01 4.11501348e-01]\n",
            " [5.21813869e-01 5.77647507e-01 5.87599933e-01 6.00718915e-01]\n",
            " [2.19569638e-01 3.48744750e-01 3.38372648e-01 3.77075404e-01]\n",
            " [1.24863081e-01 2.50912935e-01 2.79940873e-01 2.81580776e-01]\n",
            " [5.77186048e-01 3.62296641e-01 7.07020819e-01 4.41811085e-01]\n",
            " [2.57474363e-01 5.67561567e-01 5.31102896e-01 6.87727273e-01]\n",
            " [4.20639627e-02 8.74773145e-01 2.52773464e-01 9.13028836e-01]\n",
            " [1.56351045e-01 4.43401158e-01 2.22213224e-01 4.75786090e-01]\n",
            " [5.01968026e-01 9.21486855e-01 8.36406708e-01 1.00000000e+00]\n",
            " [5.23622572e-01 5.70259511e-01 5.84519446e-01 5.91583431e-01]\n",
            " [5.13246357e-01 6.79276407e-01 5.50994575e-01 6.92579925e-01]\n",
            " [5.19120276e-01 5.99985361e-01 6.46378398e-01 6.34036422e-01]\n",
            " [5.24297774e-01 9.24962044e-01 8.10777128e-01 9.97999549e-01]\n",
            " [6.38187289e-01 4.42918181e-01 7.01653838e-01 4.84097719e-01]\n",
            " [3.42190638e-02 3.55574757e-01 1.62255093e-01 3.74921203e-01]\n",
            " [4.88476783e-01 4.53496963e-01 6.21795475e-01 4.79725718e-01]\n",
            " [9.28808877e-04 3.07699054e-01 1.06533416e-01 3.32059711e-01]\n",
            " [4.83008981e-01 6.19908273e-01 5.64775169e-01 6.60696924e-01]\n",
            " [5.82192898e-01 3.64929765e-01 7.13880658e-01 4.84707862e-01]\n",
            " [5.23547709e-01 7.49199331e-01 5.85378110e-01 7.65317559e-01]\n",
            " [6.09156787e-01 4.26705897e-01 7.05165207e-01 4.87089008e-01]\n",
            " [3.51368606e-01 9.74856079e-01 5.53130686e-01 9.98878717e-01]\n",
            " [0.00000000e+00 8.11223269e-01 6.86410844e-01 9.97151375e-01]\n",
            " [5.76297641e-01 3.57461780e-01 7.04812348e-01 4.40279871e-01]\n",
            " [5.64892411e-01 3.63023102e-01 7.08650231e-01 4.16036338e-01]\n",
            " [1.09374998e-02 2.33155321e-02 7.26522923e-01 4.21747833e-01]\n",
            " [4.84686583e-01 4.10686046e-01 6.94686472e-01 4.63092834e-01]\n",
            " [8.09777379e-02 3.84715289e-01 2.07808718e-01 4.11746383e-01]\n",
            " [5.38284421e-01 6.03573740e-01 6.34776115e-01 6.34408653e-01]\n",
            " [6.29844606e-01 6.14971519e-01 6.44933462e-01 6.25384450e-01]\n",
            " [5.02758026e-01 3.82395953e-01 5.96146226e-01 4.12722319e-01]\n",
            " [0.00000000e+00 1.24522923e-02 1.40193507e-01 2.47382112e-02]\n",
            " [5.14441371e-01 7.47791529e-01 5.91985822e-01 7.66827404e-01]\n",
            " [5.06182134e-01 5.00406921e-01 6.00681305e-01 5.23312032e-01]\n",
            " [0.00000000e+00 2.11283505e-01 6.50794208e-01 4.34300780e-01]\n",
            " [4.89451557e-01 4.54391301e-01 5.72340131e-01 4.76470768e-01]\n",
            " [0.00000000e+00 7.06215978e-01 6.16998792e-01 8.66189659e-01]\n",
            " [5.09172916e-01 4.16281193e-01 6.69304490e-01 4.59598720e-01]\n",
            " [4.65174345e-03 8.03094208e-01 1.59853563e-01 8.40397060e-01]\n",
            " [5.26151001e-01 5.68352938e-01 5.79440355e-01 5.82810223e-01]\n",
            " [6.71924829e-01 9.40277696e-01 8.21276009e-01 9.89250779e-01]\n",
            " [5.02770185e-01 3.73883098e-01 6.46991491e-01 4.12972301e-01]\n",
            " [5.74243903e-01 2.67400861e-01 6.57769084e-01 3.20318520e-01]\n",
            " [4.86056775e-01 4.44508791e-01 6.24788880e-01 4.73503351e-01]\n",
            " [5.17248929e-01 7.56969213e-01 5.88517189e-01 7.71465480e-01]\n",
            " [5.23374975e-01 5.57850122e-01 5.79139531e-01 5.73541582e-01]\n",
            " [6.12461030e-01 4.27332461e-01 7.06080198e-01 4.88251865e-01]\n",
            " [5.24124086e-01 5.61553180e-01 5.78385353e-01 5.80475152e-01]\n",
            " [0.00000000e+00 2.44231761e-01 6.07754774e-02 2.93613493e-01]\n",
            " [1.48921460e-02 2.14741915e-03 7.45441914e-01 2.59790748e-01]\n",
            " [4.93236154e-01 9.23950195e-01 8.37110877e-01 9.97755051e-01]\n",
            " [8.37683212e-03 2.42165700e-01 4.97285202e-02 2.83162564e-01]\n",
            " [5.05334914e-01 3.60175252e-01 6.43561006e-01 3.91461760e-01]\n",
            " [5.13099134e-01 5.23794115e-01 6.00504339e-01 5.42967975e-01]\n",
            " [5.20421386e-01 6.00978673e-01 6.46124065e-01 6.34366393e-01]\n",
            " [5.18224835e-01 5.03395557e-01 5.97548604e-01 5.22683859e-01]\n",
            " [5.94199121e-01 3.61327976e-01 7.05465913e-01 4.15853351e-01]\n",
            " [5.13256371e-01 6.79316938e-01 5.50534010e-01 6.92482173e-01]\n",
            " [5.22302687e-01 5.36195457e-01 5.97564995e-01 5.53163230e-01]\n",
            " [4.29876417e-01 8.28702271e-01 5.89928210e-01 8.64323139e-01]\n",
            " [5.04884601e-01 3.89426976e-01 6.15080714e-01 4.19936091e-01]\n",
            " [5.26588559e-01 6.27176881e-01 5.63299775e-01 6.53728902e-01]\n",
            " [5.01304924e-01 3.64189029e-01 6.59964740e-01 4.03793275e-01]\n",
            " [5.15171170e-01 6.24104798e-01 5.63795328e-01 6.58002079e-01]\n",
            " [5.73137939e-01 2.66902655e-01 6.66162014e-01 3.18640232e-01]\n",
            " [8.34235623e-02 4.07414377e-01 5.84092438e-01 5.58522880e-01]\n",
            " [2.88196921e-01 4.77984577e-04 4.14364636e-01 3.65995765e-02]\n",
            " [4.97272849e-01 4.55296665e-01 5.83817124e-01 4.77936029e-01]\n",
            " [6.27168000e-01 3.61024052e-01 7.05996811e-01 4.09780174e-01]\n",
            " [5.15861034e-01 3.80056977e-01 5.96893847e-01 4.11758274e-01]\n",
            " [1.18098101e-02 3.08121800e-01 9.72859487e-02 3.25038970e-01]\n",
            " [5.12501717e-01 6.23653352e-01 5.62422097e-01 6.57641888e-01]\n",
            " [4.01003122e-01 8.85088801e-01 5.81281662e-01 9.39214468e-01]\n",
            " [5.13853133e-01 5.29484570e-01 6.02009714e-01 5.52362800e-01]\n",
            " [0.00000000e+00 1.00606075e-02 1.36156827e-01 3.16007249e-02]\n",
            " [4.80426341e-01 6.20422781e-01 5.65284550e-01 6.60150409e-01]\n",
            " [5.19355476e-01 3.61840397e-01 6.24995410e-01 3.84919673e-01]]\n"
          ],
          "name": "stdout"
        }
      ]
    }
  ]
}