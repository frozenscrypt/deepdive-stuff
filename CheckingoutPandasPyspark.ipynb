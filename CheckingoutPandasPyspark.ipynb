{
 "cells": [
  {
   "cell_type": "markdown",
   "id": "2341a734",
   "metadata": {},
   "source": [
    "## Comparing Basic Pyspark and Pandas functionalities"
   ]
  },
  {
   "cell_type": "markdown",
   "id": "67eb4eec",
   "metadata": {},
   "source": [
    "### Import Pyspark and create SparkSession.\n",
    "\n",
    "This is the first thing to do when working with pyspark. The spark variable will also provide access to a UI to monitor jobs."
   ]
  },
  {
   "cell_type": "code",
   "execution_count": 1,
   "id": "cce5d404",
   "metadata": {},
   "outputs": [],
   "source": [
    "import pyspark\n",
    "from pyspark.sql import SparkSession\n",
    "\n",
    "spark = SparkSession.builder.appName(\"Pyspark\").getOrCreate()"
   ]
  },
  {
   "cell_type": "code",
   "execution_count": 2,
   "id": "ca3cd0dd",
   "metadata": {},
   "outputs": [],
   "source": [
    "import pandas as pd"
   ]
  },
  {
   "cell_type": "code",
   "execution_count": 3,
   "id": "d1733b56",
   "metadata": {},
   "outputs": [],
   "source": [
    "data = [['vivek',12],['varun',13],['manish',14]]"
   ]
  },
  {
   "cell_type": "markdown",
   "id": "0af248cd",
   "metadata": {},
   "source": [
    "#### Creating Pyspark and Pandas DataFrames"
   ]
  },
  {
   "cell_type": "code",
   "execution_count": 4,
   "id": "91244905",
   "metadata": {},
   "outputs": [],
   "source": [
    "spark_df = spark.createDataFrame(data,['name','id'])"
   ]
  },
  {
   "cell_type": "code",
   "execution_count": 5,
   "id": "76077f0c",
   "metadata": {},
   "outputs": [],
   "source": [
    "pandas_df = pd.DataFrame(data,columns=['name','id'])"
   ]
  },
  {
   "cell_type": "code",
   "execution_count": 6,
   "id": "73b41c54",
   "metadata": {},
   "outputs": [
    {
     "name": "stdout",
     "output_type": "stream",
     "text": [
      "+------+---+\n",
      "|  name| id|\n",
      "+------+---+\n",
      "| vivek| 12|\n",
      "| varun| 13|\n",
      "|manish| 14|\n",
      "+------+---+\n",
      "\n"
     ]
    }
   ],
   "source": [
    "spark_df.show()"
   ]
  },
  {
   "cell_type": "code",
   "execution_count": 7,
   "id": "b6c22e5e",
   "metadata": {},
   "outputs": [
    {
     "data": {
      "text/html": [
       "<div>\n",
       "<style scoped>\n",
       "    .dataframe tbody tr th:only-of-type {\n",
       "        vertical-align: middle;\n",
       "    }\n",
       "\n",
       "    .dataframe tbody tr th {\n",
       "        vertical-align: top;\n",
       "    }\n",
       "\n",
       "    .dataframe thead th {\n",
       "        text-align: right;\n",
       "    }\n",
       "</style>\n",
       "<table border=\"1\" class=\"dataframe\">\n",
       "  <thead>\n",
       "    <tr style=\"text-align: right;\">\n",
       "      <th></th>\n",
       "      <th>name</th>\n",
       "      <th>id</th>\n",
       "    </tr>\n",
       "  </thead>\n",
       "  <tbody>\n",
       "    <tr>\n",
       "      <th>0</th>\n",
       "      <td>vivek</td>\n",
       "      <td>12</td>\n",
       "    </tr>\n",
       "    <tr>\n",
       "      <th>1</th>\n",
       "      <td>varun</td>\n",
       "      <td>13</td>\n",
       "    </tr>\n",
       "    <tr>\n",
       "      <th>2</th>\n",
       "      <td>manish</td>\n",
       "      <td>14</td>\n",
       "    </tr>\n",
       "  </tbody>\n",
       "</table>\n",
       "</div>"
      ],
      "text/plain": [
       "     name  id\n",
       "0   vivek  12\n",
       "1   varun  13\n",
       "2  manish  14"
      ]
     },
     "execution_count": 7,
     "metadata": {},
     "output_type": "execute_result"
    }
   ],
   "source": [
    "pandas_df.head()"
   ]
  },
  {
   "cell_type": "markdown",
   "id": "8b30765c",
   "metadata": {},
   "source": [
    "### Reading CSV in Pyspark"
   ]
  },
  {
   "cell_type": "code",
   "execution_count": 12,
   "id": "79cf9605",
   "metadata": {},
   "outputs": [],
   "source": [
    "path = 'Datasets/students.csv'"
   ]
  },
  {
   "cell_type": "code",
   "execution_count": 13,
   "id": "70b3de5c",
   "metadata": {},
   "outputs": [],
   "source": [
    "spark_csv = spark.read.csv(path,header=True)"
   ]
  },
  {
   "cell_type": "code",
   "execution_count": 14,
   "id": "b23b116a",
   "metadata": {},
   "outputs": [
    {
     "name": "stdout",
     "output_type": "stream",
     "text": [
      "+------+--------------+---------------------------+------------+-----------------------+----------+-------------+-------------+\n",
      "|gender|race/ethnicity|parental level of education|       lunch|test preparation course|math score|reading score|writing score|\n",
      "+------+--------------+---------------------------+------------+-----------------------+----------+-------------+-------------+\n",
      "|female|       group B|          bachelor's degree|    standard|                   none|        72|           72|           74|\n",
      "|female|       group C|               some college|    standard|              completed|        69|           90|           88|\n",
      "|female|       group B|            master's degree|    standard|                   none|        90|           95|           93|\n",
      "|  male|       group A|         associate's degree|free/reduced|                   none|        47|           57|           44|\n",
      "|  male|       group C|               some college|    standard|                   none|        76|           78|           75|\n",
      "+------+--------------+---------------------------+------------+-----------------------+----------+-------------+-------------+\n",
      "only showing top 5 rows\n",
      "\n"
     ]
    }
   ],
   "source": [
    "spark_csv.show(5)"
   ]
  },
  {
   "cell_type": "markdown",
   "id": "52ebd141",
   "metadata": {},
   "source": [
    "### Reading CSV in Pandas"
   ]
  },
  {
   "cell_type": "code",
   "execution_count": 15,
   "id": "9364d5ec",
   "metadata": {},
   "outputs": [],
   "source": [
    "pandas_csv = pd.read_csv(path)"
   ]
  },
  {
   "cell_type": "code",
   "execution_count": 16,
   "id": "09f81de0",
   "metadata": {},
   "outputs": [
    {
     "data": {
      "text/html": [
       "<div>\n",
       "<style scoped>\n",
       "    .dataframe tbody tr th:only-of-type {\n",
       "        vertical-align: middle;\n",
       "    }\n",
       "\n",
       "    .dataframe tbody tr th {\n",
       "        vertical-align: top;\n",
       "    }\n",
       "\n",
       "    .dataframe thead th {\n",
       "        text-align: right;\n",
       "    }\n",
       "</style>\n",
       "<table border=\"1\" class=\"dataframe\">\n",
       "  <thead>\n",
       "    <tr style=\"text-align: right;\">\n",
       "      <th></th>\n",
       "      <th>gender</th>\n",
       "      <th>race/ethnicity</th>\n",
       "      <th>parental level of education</th>\n",
       "      <th>lunch</th>\n",
       "      <th>test preparation course</th>\n",
       "      <th>math score</th>\n",
       "      <th>reading score</th>\n",
       "      <th>writing score</th>\n",
       "    </tr>\n",
       "  </thead>\n",
       "  <tbody>\n",
       "    <tr>\n",
       "      <th>0</th>\n",
       "      <td>female</td>\n",
       "      <td>group B</td>\n",
       "      <td>bachelor's degree</td>\n",
       "      <td>standard</td>\n",
       "      <td>none</td>\n",
       "      <td>72</td>\n",
       "      <td>72</td>\n",
       "      <td>74</td>\n",
       "    </tr>\n",
       "    <tr>\n",
       "      <th>1</th>\n",
       "      <td>female</td>\n",
       "      <td>group C</td>\n",
       "      <td>some college</td>\n",
       "      <td>standard</td>\n",
       "      <td>completed</td>\n",
       "      <td>69</td>\n",
       "      <td>90</td>\n",
       "      <td>88</td>\n",
       "    </tr>\n",
       "    <tr>\n",
       "      <th>2</th>\n",
       "      <td>female</td>\n",
       "      <td>group B</td>\n",
       "      <td>master's degree</td>\n",
       "      <td>standard</td>\n",
       "      <td>none</td>\n",
       "      <td>90</td>\n",
       "      <td>95</td>\n",
       "      <td>93</td>\n",
       "    </tr>\n",
       "    <tr>\n",
       "      <th>3</th>\n",
       "      <td>male</td>\n",
       "      <td>group A</td>\n",
       "      <td>associate's degree</td>\n",
       "      <td>free/reduced</td>\n",
       "      <td>none</td>\n",
       "      <td>47</td>\n",
       "      <td>57</td>\n",
       "      <td>44</td>\n",
       "    </tr>\n",
       "    <tr>\n",
       "      <th>4</th>\n",
       "      <td>male</td>\n",
       "      <td>group C</td>\n",
       "      <td>some college</td>\n",
       "      <td>standard</td>\n",
       "      <td>none</td>\n",
       "      <td>76</td>\n",
       "      <td>78</td>\n",
       "      <td>75</td>\n",
       "    </tr>\n",
       "  </tbody>\n",
       "</table>\n",
       "</div>"
      ],
      "text/plain": [
       "   gender race/ethnicity parental level of education         lunch  \\\n",
       "0  female        group B           bachelor's degree      standard   \n",
       "1  female        group C                some college      standard   \n",
       "2  female        group B             master's degree      standard   \n",
       "3    male        group A          associate's degree  free/reduced   \n",
       "4    male        group C                some college      standard   \n",
       "\n",
       "  test preparation course  math score  reading score  writing score  \n",
       "0                    none          72             72             74  \n",
       "1               completed          69             90             88  \n",
       "2                    none          90             95             93  \n",
       "3                    none          47             57             44  \n",
       "4                    none          76             78             75  "
      ]
     },
     "execution_count": 16,
     "metadata": {},
     "output_type": "execute_result"
    }
   ],
   "source": [
    "pandas_csv.head()"
   ]
  },
  {
   "cell_type": "code",
   "execution_count": 17,
   "id": "8d4d4f4b",
   "metadata": {},
   "outputs": [
    {
     "data": {
      "text/plain": [
       "['gender',\n",
       " 'race/ethnicity',\n",
       " 'parental level of education',\n",
       " 'lunch',\n",
       " 'test preparation course',\n",
       " 'math score',\n",
       " 'reading score',\n",
       " 'writing score']"
      ]
     },
     "execution_count": 17,
     "metadata": {},
     "output_type": "execute_result"
    }
   ],
   "source": [
    "spark_csv.columns"
   ]
  },
  {
   "cell_type": "code",
   "execution_count": 18,
   "id": "7b811fc7",
   "metadata": {},
   "outputs": [
    {
     "data": {
      "text/plain": [
       "Index(['gender', 'race/ethnicity', 'parental level of education', 'lunch',\n",
       "       'test preparation course', 'math score', 'reading score',\n",
       "       'writing score'],\n",
       "      dtype='object')"
      ]
     },
     "execution_count": 18,
     "metadata": {},
     "output_type": "execute_result"
    }
   ],
   "source": [
    "pandas_csv.columns"
   ]
  },
  {
   "cell_type": "markdown",
   "id": "c5bbf3ed",
   "metadata": {},
   "source": [
    "#### Checking out number of rows in spark and pandas dataframes"
   ]
  },
  {
   "cell_type": "code",
   "execution_count": 19,
   "id": "df588163",
   "metadata": {},
   "outputs": [
    {
     "data": {
      "text/plain": [
       "(1000, 1000)"
      ]
     },
     "execution_count": 19,
     "metadata": {},
     "output_type": "execute_result"
    }
   ],
   "source": [
    "spark_csv.count(),len(pandas_csv)"
   ]
  },
  {
   "cell_type": "markdown",
   "id": "caa0f4ef",
   "metadata": {},
   "source": [
    "### Grouping and aggregating data in spark dataframes with groupBy and agg"
   ]
  },
  {
   "cell_type": "markdown",
   "id": "67e4d6f8",
   "metadata": {},
   "source": [
    "#### Something to note is that you can aggregate data without grouping it but grouping data without aggregating does not yield anything valuable"
   ]
  },
  {
   "cell_type": "code",
   "execution_count": 20,
   "id": "e3d70c65",
   "metadata": {},
   "outputs": [
    {
     "name": "stdout",
     "output_type": "stream",
     "text": [
      "+------+------------------+\n",
      "|gender|   avg(math score)|\n",
      "+------+------------------+\n",
      "|female|63.633204633204635|\n",
      "|  male| 68.72821576763485|\n",
      "+------+------------------+\n",
      "\n"
     ]
    }
   ],
   "source": [
    "spark_csv.groupBy('gender').agg({'math score':'mean'}).show()"
   ]
  },
  {
   "cell_type": "markdown",
   "id": "c6d05c75",
   "metadata": {},
   "source": [
    "### Grouping and aggregating data in pandas dataframes with groupby and agg"
   ]
  },
  {
   "cell_type": "code",
   "execution_count": 18,
   "id": "0e0fa5fc",
   "metadata": {},
   "outputs": [
    {
     "data": {
      "text/html": [
       "<div>\n",
       "<style scoped>\n",
       "    .dataframe tbody tr th:only-of-type {\n",
       "        vertical-align: middle;\n",
       "    }\n",
       "\n",
       "    .dataframe tbody tr th {\n",
       "        vertical-align: top;\n",
       "    }\n",
       "\n",
       "    .dataframe thead tr th {\n",
       "        text-align: left;\n",
       "    }\n",
       "\n",
       "    .dataframe thead tr:last-of-type th {\n",
       "        text-align: right;\n",
       "    }\n",
       "</style>\n",
       "<table border=\"1\" class=\"dataframe\">\n",
       "  <thead>\n",
       "    <tr>\n",
       "      <th></th>\n",
       "      <th colspan=\"3\" halign=\"left\">math score</th>\n",
       "    </tr>\n",
       "    <tr>\n",
       "      <th></th>\n",
       "      <th>min</th>\n",
       "      <th>max</th>\n",
       "      <th>mean</th>\n",
       "    </tr>\n",
       "    <tr>\n",
       "      <th>gender</th>\n",
       "      <th></th>\n",
       "      <th></th>\n",
       "      <th></th>\n",
       "    </tr>\n",
       "  </thead>\n",
       "  <tbody>\n",
       "    <tr>\n",
       "      <th>female</th>\n",
       "      <td>0</td>\n",
       "      <td>100</td>\n",
       "      <td>63.633205</td>\n",
       "    </tr>\n",
       "    <tr>\n",
       "      <th>male</th>\n",
       "      <td>27</td>\n",
       "      <td>100</td>\n",
       "      <td>68.728216</td>\n",
       "    </tr>\n",
       "  </tbody>\n",
       "</table>\n",
       "</div>"
      ],
      "text/plain": [
       "       math score                \n",
       "              min  max       mean\n",
       "gender                           \n",
       "female          0  100  63.633205\n",
       "male           27  100  68.728216"
      ]
     },
     "execution_count": 18,
     "metadata": {},
     "output_type": "execute_result"
    }
   ],
   "source": [
    "pandas_csv.groupby('gender').agg({'math score':['min','max','mean']})"
   ]
  },
  {
   "cell_type": "markdown",
   "id": "5070145f",
   "metadata": {},
   "source": [
    "#### Very similar syntax but subtle difference in pyspark and pandas is that in pyspark I can't pass multiple metrics in a dictionary like I could with pandas in agg"
   ]
  },
  {
   "cell_type": "markdown",
   "id": "d153a53a",
   "metadata": {},
   "source": [
    "### Generate multiple aggregation results in pyspark like"
   ]
  },
  {
   "cell_type": "code",
   "execution_count": 21,
   "id": "83716eda",
   "metadata": {},
   "outputs": [
    {
     "name": "stdout",
     "output_type": "stream",
     "text": [
      "+------+---------------+---------------+------------------+\n",
      "|gender|min(math score)|max(math score)|   avg(math score)|\n",
      "+------+---------------+---------------+------------------+\n",
      "|female|              0|             99|63.633204633204635|\n",
      "|  male|            100|             99| 68.72821576763485|\n",
      "+------+---------------+---------------+------------------+\n",
      "\n"
     ]
    }
   ],
   "source": [
    "from pyspark.sql import functions as F\n",
    "spark_csv.groupBy('gender').agg(F.min('math score'),F.max('math score'),F.avg('math score')).show()"
   ]
  },
  {
   "cell_type": "markdown",
   "id": "86249a60",
   "metadata": {},
   "source": [
    "### Be careful of memory utilization when assigning dataframes with operations on them to variables. \n",
    "Spark results in creation of a new dataframe. Check it out. The ID for spark_csv is 60 and for df2 is 60. Same dataframe. But if I do a computation on spark_csv, the ID changes"
   ]
  },
  {
   "cell_type": "code",
   "execution_count": 27,
   "id": "51339d7d",
   "metadata": {},
   "outputs": [
    {
     "data": {
      "text/plain": [
       "60"
      ]
     },
     "execution_count": 27,
     "metadata": {},
     "output_type": "execute_result"
    }
   ],
   "source": [
    "spark_csv.rdd.id()"
   ]
  },
  {
   "cell_type": "code",
   "execution_count": 28,
   "id": "7e791355",
   "metadata": {},
   "outputs": [
    {
     "data": {
      "text/plain": [
       "60"
      ]
     },
     "execution_count": 28,
     "metadata": {},
     "output_type": "execute_result"
    }
   ],
   "source": [
    "df2 = spark_csv\n",
    "df2.rdd.id()"
   ]
  },
  {
   "cell_type": "code",
   "execution_count": 30,
   "id": "f3c96375",
   "metadata": {},
   "outputs": [
    {
     "data": {
      "text/plain": [
       "72"
      ]
     },
     "execution_count": 30,
     "metadata": {},
     "output_type": "execute_result"
    }
   ],
   "source": [
    "df3 = spark_csv.withColumn(\"avg\",spark_csv['math score']*2)\n",
    "df3.rdd.id()"
   ]
  }
 ],
 "metadata": {
  "kernelspec": {
   "display_name": "mlenv",
   "language": "python",
   "name": "mlenv"
  },
  "language_info": {
   "codemirror_mode": {
    "name": "ipython",
    "version": 3
   },
   "file_extension": ".py",
   "mimetype": "text/x-python",
   "name": "python",
   "nbconvert_exporter": "python",
   "pygments_lexer": "ipython3",
   "version": "3.8.5"
  }
 },
 "nbformat": 4,
 "nbformat_minor": 5
}
