{
 "cells": [
  {
   "cell_type": "markdown",
   "id": "ea3f85e0",
   "metadata": {},
   "source": [
    "## Joining and Appending DataFrames"
   ]
  },
  {
   "cell_type": "markdown",
   "id": "620914f8",
   "metadata": {},
   "source": [
    "### Import Pyspark and create SparkSession.\n",
    "\n",
    "This is the first thing to do when working with pyspark. The spark variable will also provide access to a UI to monitor jobs."
   ]
  },
  {
   "cell_type": "code",
   "execution_count": 1,
   "id": "cdcd437f",
   "metadata": {},
   "outputs": [],
   "source": [
    "import pyspark\n",
    "from pyspark.sql import SparkSession\n",
    "spark = SparkSession.builder.appName(\"Joining\").getOrCreate()"
   ]
  },
  {
   "cell_type": "markdown",
   "id": "cba470a4",
   "metadata": {},
   "source": [
    "#### Creating sample dataframes"
   ]
  },
  {
   "cell_type": "code",
   "execution_count": 2,
   "id": "34d7e94d",
   "metadata": {},
   "outputs": [
    {
     "name": "stdout",
     "output_type": "stream",
     "text": [
      "Plant eaters (herbivores)\n",
      "+-----------+---+-----------+\n",
      "|       name| id|eats_plants|\n",
      "+-----------+---+-----------+\n",
      "|      koala|  1|        yes|\n",
      "|caterpillar|  2|        yes|\n",
      "|       deer|  3|        yes|\n",
      "|      human|  4|        yes|\n",
      "+-----------+---+-----------+\n",
      "\n",
      "None\n",
      "Meat eaters (carnivores)\n",
      "+-----+---+---------+\n",
      "| name| id|eats_meat|\n",
      "+-----+---+---------+\n",
      "|shark|  5|      yes|\n",
      "| lion|  6|      yes|\n",
      "|tiger|  7|      yes|\n",
      "|human|  4|      yes|\n",
      "+-----+---+---------+\n",
      "\n",
      "None\n"
     ]
    }
   ],
   "source": [
    "valuesP = [('koala',1,'yes'),('caterpillar',2,'yes'),('deer',3,'yes'),('human',4,'yes')]\n",
    "eats_plants = spark.createDataFrame(valuesP,['name','id','eats_plants'])\n",
    "\n",
    "valuesM = [('shark',5,'yes'),('lion',6,'yes'),('tiger',7,'yes'),('human',4,'yes')]\n",
    "eats_meat = spark.createDataFrame(valuesM,['name','id','eats_meat'])\n",
    "\n",
    "print(\"Plant eaters (herbivores)\")\n",
    "print(eats_plants.show())\n",
    "print(\"Meat eaters (carnivores)\")\n",
    "print(eats_meat.show())"
   ]
  },
  {
   "cell_type": "code",
   "execution_count": 3,
   "id": "89c9a90f",
   "metadata": {},
   "outputs": [],
   "source": [
    "new_df = eats_plants"
   ]
  },
  {
   "cell_type": "markdown",
   "id": "d3e7aaee",
   "metadata": {},
   "source": [
    "#### Union of two dataframes (columns should be same with same datatype, stacking them over rows"
   ]
  },
  {
   "cell_type": "code",
   "execution_count": 6,
   "id": "6465d55c",
   "metadata": {},
   "outputs": [],
   "source": [
    "df_append = eats_plants.union(new_df)"
   ]
  },
  {
   "cell_type": "code",
   "execution_count": 7,
   "id": "b5e802b5",
   "metadata": {},
   "outputs": [
    {
     "data": {
      "text/plain": [
       "(8, 4)"
      ]
     },
     "execution_count": 7,
     "metadata": {},
     "output_type": "execute_result"
    }
   ],
   "source": [
    "df_append.count(),eats_plants.count()"
   ]
  },
  {
   "cell_type": "markdown",
   "id": "6cc0caf4",
   "metadata": {},
   "source": [
    "### Inner Join (Keep rows with common values of key in both dataframes)"
   ]
  },
  {
   "cell_type": "code",
   "execution_count": 8,
   "id": "1c7daa50",
   "metadata": {},
   "outputs": [
    {
     "name": "stdout",
     "output_type": "stream",
     "text": [
      "+-----+---+-----------+---------+\n",
      "| name| id|eats_plants|eats_meat|\n",
      "+-----+---+-----------+---------+\n",
      "|human|  4|        yes|      yes|\n",
      "+-----+---+-----------+---------+\n",
      "\n"
     ]
    }
   ],
   "source": [
    "inner_join = eats_plants.join(eats_meat,[\"name\",\"id\"],\"inner\")\n",
    "inner_join.show()"
   ]
  },
  {
   "cell_type": "code",
   "execution_count": 9,
   "id": "1d790e12",
   "metadata": {},
   "outputs": [
    {
     "name": "stdout",
     "output_type": "stream",
     "text": [
      "+-----+---+-----------+---+---------+\n",
      "| name| id|eats_plants| id|eats_meat|\n",
      "+-----+---+-----------+---+---------+\n",
      "|human|  4|        yes|  4|      yes|\n",
      "+-----+---+-----------+---+---------+\n",
      "\n"
     ]
    }
   ],
   "source": [
    "inner_join = eats_plants.join(eats_meat,[\"name\",],\"inner\")\n",
    "inner_join.show()"
   ]
  },
  {
   "cell_type": "markdown",
   "id": "f7f37fa7",
   "metadata": {},
   "source": [
    "#### Left Join (join dataframes with common values of key in both and all the values of key in left dataframe)"
   ]
  },
  {
   "cell_type": "code",
   "execution_count": 10,
   "id": "5e87123c",
   "metadata": {
    "scrolled": true
   },
   "outputs": [
    {
     "name": "stdout",
     "output_type": "stream",
     "text": [
      "+-----------+---+-----------+---------+\n",
      "|       name| id|eats_plants|eats_meat|\n",
      "+-----------+---+-----------+---------+\n",
      "|       deer|  3|        yes|     null|\n",
      "|      human|  4|        yes|      yes|\n",
      "|      koala|  1|        yes|     null|\n",
      "|caterpillar|  2|        yes|     null|\n",
      "+-----------+---+-----------+---------+\n",
      "\n"
     ]
    }
   ],
   "source": [
    "left_join = eats_plants.join(eats_meat,[\"name\",\"id\"],\"left\")\n",
    "left_join.show()"
   ]
  },
  {
   "cell_type": "markdown",
   "id": "89f201b2",
   "metadata": {},
   "source": [
    "#### Right Join (join dataframes with common values of key in both and all the values of key in right dataframe)"
   ]
  },
  {
   "cell_type": "code",
   "execution_count": 11,
   "id": "4932357f",
   "metadata": {},
   "outputs": [
    {
     "name": "stdout",
     "output_type": "stream",
     "text": [
      "+-----+---+-----------+---------+\n",
      "| name| id|eats_plants|eats_meat|\n",
      "+-----+---+-----------+---------+\n",
      "|shark|  5|       null|      yes|\n",
      "|human|  4|        yes|      yes|\n",
      "|tiger|  7|       null|      yes|\n",
      "| lion|  6|       null|      yes|\n",
      "+-----+---+-----------+---------+\n",
      "\n"
     ]
    }
   ],
   "source": [
    "right_join = eats_plants.join(eats_meat,[\"name\",\"id\"],\"right\")\n",
    "right_join.show()"
   ]
  },
  {
   "cell_type": "markdown",
   "id": "fa94a1a8",
   "metadata": {},
   "source": [
    "#### Left Join dataframes and filter it based on Null values of column"
   ]
  },
  {
   "cell_type": "code",
   "execution_count": 13,
   "id": "677c0de2",
   "metadata": {},
   "outputs": [
    {
     "name": "stdout",
     "output_type": "stream",
     "text": [
      "+-----------+---+-----------+---------+\n",
      "|       name| id|eats_plants|eats_meat|\n",
      "+-----------+---+-----------+---------+\n",
      "|       deer|  3|        yes|     null|\n",
      "|      koala|  1|        yes|     null|\n",
      "|caterpillar|  2|        yes|     null|\n",
      "+-----------+---+-----------+---------+\n",
      "\n"
     ]
    }
   ],
   "source": [
    "cond_join = eats_plants.join(eats_meat,[\"name\",\"id\"],\"left\").filter(eats_meat.name.isNull())\n",
    "cond_join.show()"
   ]
  },
  {
   "cell_type": "markdown",
   "id": "4aaecf47",
   "metadata": {},
   "source": [
    "#### Full outer join"
   ]
  },
  {
   "cell_type": "code",
   "execution_count": 14,
   "id": "e20bc1bf",
   "metadata": {},
   "outputs": [
    {
     "name": "stdout",
     "output_type": "stream",
     "text": [
      "+-----------+---+-----------+---------+\n",
      "|       name| id|eats_plants|eats_meat|\n",
      "+-----------+---+-----------+---------+\n",
      "|       deer|  3|        yes|     null|\n",
      "|      shark|  5|       null|      yes|\n",
      "|      human|  4|        yes|      yes|\n",
      "|      tiger|  7|       null|      yes|\n",
      "|       lion|  6|       null|      yes|\n",
      "|      koala|  1|        yes|     null|\n",
      "|caterpillar|  2|        yes|     null|\n",
      "+-----------+---+-----------+---------+\n",
      "\n"
     ]
    }
   ],
   "source": [
    "full_join = eats_plants.join(eats_meat,[\"name\",\"id\"],\"full\")\n",
    "full_join.show()"
   ]
  },
  {
   "cell_type": "code",
   "execution_count": 17,
   "id": "fec2672a",
   "metadata": {},
   "outputs": [],
   "source": [
    "import os\n",
    "path = 'Datasets/uw-madison-courses/'\n"
   ]
  },
  {
   "cell_type": "markdown",
   "id": "d26ec8ce",
   "metadata": {},
   "source": [
    "### Reading multiple CSVs in dataframe and assigning it a variable name"
   ]
  },
  {
   "cell_type": "code",
   "execution_count": 20,
   "id": "f500251f",
   "metadata": {},
   "outputs": [],
   "source": [
    "df_list = []\n",
    "for filename in os.listdir(path):\n",
    "    if filename.endswith(\".csv\"):\n",
    "        filename_list = filename.split(\".\")\n",
    "        df_name = filename_list[0]\n",
    "        df = spark.read.csv(path+filename,inferSchema=True,header=True)\n",
    "        df.name = df_name\n",
    "        df_list.append(df_name)\n",
    "        exec(df_name + ' = df')\n",
    "        "
   ]
  },
  {
   "cell_type": "code",
   "execution_count": 21,
   "id": "91715f58",
   "metadata": {},
   "outputs": [
    {
     "data": {
      "text/plain": [
       "DataFrame[instructor_id: int, section_uuid: string]"
      ]
     },
     "execution_count": 21,
     "metadata": {},
     "output_type": "execute_result"
    }
   ],
   "source": [
    "teachings"
   ]
  },
  {
   "cell_type": "code",
   "execution_count": 22,
   "id": "d2d407d6",
   "metadata": {},
   "outputs": [
    {
     "data": {
      "text/plain": [
       "['teachings',\n",
       " 'course_offerings',\n",
       " 'subject_memberships',\n",
       " 'sections',\n",
       " 'schedules',\n",
       " 'rooms',\n",
       " 'instructors',\n",
       " 'grade_distributions',\n",
       " 'subjects',\n",
       " 'courses']"
      ]
     },
     "execution_count": 22,
     "metadata": {},
     "output_type": "execute_result"
    }
   ],
   "source": [
    "df_list"
   ]
  },
  {
   "cell_type": "code",
   "execution_count": 23,
   "id": "34d2edc5",
   "metadata": {},
   "outputs": [
    {
     "name": "stdout",
     "output_type": "stream",
     "text": [
      "+----+--------------------+------------+\n",
      "|code|                name|abbreviation|\n",
      "+----+--------------------+------------+\n",
      "| 908|        Soil Science|    SOIL SCI|\n",
      "| 350|             ENGLISH|     ENGLISH|\n",
      "| 351|English as a Seco...|         ESL|\n",
      "| 230|Human Development...|        HDFS|\n",
      "| 352|             English|        ENGL|\n",
      "| 231|    General Business|     GEN BUS|\n",
      "| 232|Accounting and In...|    ACCT I S|\n",
      "| 112|Biological System...|         BSE|\n",
      "| 233|Finance, Investme...|     FINANCE|\n",
      "| 476|        Horticulture|        HORT|\n",
      "| 355|          Entomology|       ENTOM|\n",
      "| 234| Information Systems|    INFO SYS|\n",
      "| 235|International Bus...|    INTL BUS|\n",
      "| 236|Management and Hu...|       M H R|\n",
      "| 237|           Marketing|    MARKETNG|\n",
      "| 359|      Design Studies|          DS|\n",
      "| 238|Operations and Te...|         OTM|\n",
      "| 239|Real Estate and U...|    REAL EST|\n",
      "| 912|Spanish (Spanish ...|     SPANISH|\n",
      "| 480|      Human Oncology|     H ONCOL|\n",
      "+----+--------------------+------------+\n",
      "only showing top 20 rows\n",
      "\n"
     ]
    }
   ],
   "source": [
    "subjects.show()"
   ]
  },
  {
   "cell_type": "markdown",
   "id": "53d02337",
   "metadata": {},
   "source": [
    "#### False stops show from truncating the colum  value"
   ]
  },
  {
   "cell_type": "code",
   "execution_count": 24,
   "id": "60dab456",
   "metadata": {},
   "outputs": [
    {
     "name": "stdout",
     "output_type": "stream",
     "text": [
      "+------------------------------------+------------------------------------+---------+--------------------------+\n",
      "|uuid                                |course_uuid                         |term_code|name                      |\n",
      "+------------------------------------+------------------------------------+---------+--------------------------+\n",
      "|344b3ebe-da7e-314c-83ed-9425269695fd|a3e3e1c3-543d-3bb5-ae65-5f2aec4ad1de|1092     |Cooperative Education Prog|\n",
      "+------------------------------------+------------------------------------+---------+--------------------------+\n",
      "only showing top 1 row\n",
      "\n"
     ]
    }
   ],
   "source": [
    "course_offerings.show(1,False)"
   ]
  },
  {
   "cell_type": "code",
   "execution_count": 25,
   "id": "41fc87ff",
   "metadata": {},
   "outputs": [
    {
     "name": "stdout",
     "output_type": "stream",
     "text": [
      "+------+----------------+\n",
      "|id    |name            |\n",
      "+------+----------------+\n",
      "|761703|JOHN ARCHAMBAULT|\n",
      "+------+----------------+\n",
      "only showing top 1 row\n",
      "\n"
     ]
    }
   ],
   "source": [
    "instructors.show(1,False)"
   ]
  },
  {
   "cell_type": "markdown",
   "id": "ee0823b8",
   "metadata": {},
   "source": [
    "## Multi-step Joins: Here we are looking to get the instructor name and the courses they teach\n",
    "\n",
    "Step1: get the instructor_id and name of the professor teaching a section by left joining teachings and instructors on instructor_id\n",
    "Step2: get the course_offering_id and name of the professor by left joining step1 and sections on section_uuid\n",
    "Step3: rename column name as instructor and inner joining step2 and course_offerings on course_offerin_uuid to get the name of instructor and the course they teach"
   ]
  },
  {
   "cell_type": "code",
   "execution_count": 26,
   "id": "1afcace3",
   "metadata": {},
   "outputs": [
    {
     "name": "stdout",
     "output_type": "stream",
     "text": [
      "+-------------+--------------------+----------------+\n",
      "|instructor_id|        section_uuid|            name|\n",
      "+-------------+--------------------+----------------+\n",
      "|       761703|45adf63c-48c9-365...|JOHN ARCHAMBAULT|\n",
      "|       761703|c6280e23-5e43-385...|JOHN ARCHAMBAULT|\n",
      "|       761703|9395dc21-15d1-3fa...|JOHN ARCHAMBAULT|\n",
      "|      3677061|b99e440b-39db-350...|  STEPHANIE KANN|\n",
      "|       761703|ca1c841f-41d5-329...|JOHN ARCHAMBAULT|\n",
      "|      3677061|da41b0aa-2b81-378...|  STEPHANIE KANN|\n",
      "|       761703|51c4dc00-1fc7-3c7...|JOHN ARCHAMBAULT|\n",
      "|       761703|53f95c0f-4ea9-374...|JOHN ARCHAMBAULT|\n",
      "|       761703|574d9b35-9c76-338...|JOHN ARCHAMBAULT|\n",
      "|       761703|8fc362a6-d94e-3ad...|JOHN ARCHAMBAULT|\n",
      "|       761703|d50e7478-e12f-363...|JOHN ARCHAMBAULT|\n",
      "|       761703|b21564d2-2bc4-3b8...|JOHN ARCHAMBAULT|\n",
      "|       788586|8853d23e-64b1-3cf...|      KATHY PREM|\n",
      "|       788586|94339199-eaf3-393...|      KATHY PREM|\n",
      "|       761703|0d72958a-291b-33d...|JOHN ARCHAMBAULT|\n",
      "|       761703|dfb55b25-ac7a-366...|JOHN ARCHAMBAULT|\n",
      "|       761703|27be2077-fd69-3a2...|JOHN ARCHAMBAULT|\n",
      "|       761703|56ef2b0f-0776-309...|JOHN ARCHAMBAULT|\n",
      "|      3677061|ad67e659-fbf4-32a...|  STEPHANIE KANN|\n",
      "|      3677061|e80fe1ab-6b0b-32d...|  STEPHANIE KANN|\n",
      "+-------------+--------------------+----------------+\n",
      "only showing top 20 rows\n",
      "\n"
     ]
    }
   ],
   "source": [
    "step1 = teachings.join(instructors,teachings.instructor_id==instructors.id,\"left\").select(\"instructor_id\",\"section_uuid\",\"name\")\n",
    "step1.show()"
   ]
  },
  {
   "cell_type": "code",
   "execution_count": 27,
   "id": "246e3e7f",
   "metadata": {},
   "outputs": [
    {
     "data": {
      "text/html": [
       "<div>\n",
       "<style scoped>\n",
       "    .dataframe tbody tr th:only-of-type {\n",
       "        vertical-align: middle;\n",
       "    }\n",
       "\n",
       "    .dataframe tbody tr th {\n",
       "        vertical-align: top;\n",
       "    }\n",
       "\n",
       "    .dataframe thead th {\n",
       "        text-align: right;\n",
       "    }\n",
       "</style>\n",
       "<table border=\"1\" class=\"dataframe\">\n",
       "  <thead>\n",
       "    <tr style=\"text-align: right;\">\n",
       "      <th></th>\n",
       "      <th>name</th>\n",
       "      <th>course_offering_uuid</th>\n",
       "    </tr>\n",
       "  </thead>\n",
       "  <tbody>\n",
       "    <tr>\n",
       "      <th>0</th>\n",
       "      <td>THOMAS JAHNS</td>\n",
       "      <td>f850ab24-740c-311a-a669-804a3fea7b0b</td>\n",
       "    </tr>\n",
       "    <tr>\n",
       "      <th>1</th>\n",
       "      <td>JEAN-FRANCOIS HOUDE</td>\n",
       "      <td>7e213b2b-c58b-3014-b3d1-01c0f7ed46ef</td>\n",
       "    </tr>\n",
       "    <tr>\n",
       "      <th>2</th>\n",
       "      <td>CHRISTOPHER R TABER</td>\n",
       "      <td>3beb7bd7-4877-3c63-8afc-62f8b74e72fc</td>\n",
       "    </tr>\n",
       "    <tr>\n",
       "      <th>3</th>\n",
       "      <td>MARISA S OTEGUI</td>\n",
       "      <td>db253216-2e66-3267-86b2-7b9f5fe07223</td>\n",
       "    </tr>\n",
       "  </tbody>\n",
       "</table>\n",
       "</div>"
      ],
      "text/plain": [
       "                  name                  course_offering_uuid\n",
       "0         THOMAS JAHNS  f850ab24-740c-311a-a669-804a3fea7b0b\n",
       "1  JEAN-FRANCOIS HOUDE  7e213b2b-c58b-3014-b3d1-01c0f7ed46ef\n",
       "2  CHRISTOPHER R TABER  3beb7bd7-4877-3c63-8afc-62f8b74e72fc\n",
       "3      MARISA S OTEGUI  db253216-2e66-3267-86b2-7b9f5fe07223"
      ]
     },
     "execution_count": 27,
     "metadata": {},
     "output_type": "execute_result"
    }
   ],
   "source": [
    "step2 = step1.join(sections,step1.section_uuid==sections.uuid,'left').select(\"name\",\"course_offering_uuid\")\n",
    "step2.limit(4).toPandas()"
   ]
  },
  {
   "cell_type": "code",
   "execution_count": 28,
   "id": "c217da2b",
   "metadata": {},
   "outputs": [
    {
     "data": {
      "text/html": [
       "<div>\n",
       "<style scoped>\n",
       "    .dataframe tbody tr th:only-of-type {\n",
       "        vertical-align: middle;\n",
       "    }\n",
       "\n",
       "    .dataframe tbody tr th {\n",
       "        vertical-align: top;\n",
       "    }\n",
       "\n",
       "    .dataframe thead th {\n",
       "        text-align: right;\n",
       "    }\n",
       "</style>\n",
       "<table border=\"1\" class=\"dataframe\">\n",
       "  <thead>\n",
       "    <tr style=\"text-align: right;\">\n",
       "      <th></th>\n",
       "      <th>instructor</th>\n",
       "      <th>course_offering_uuid</th>\n",
       "      <th>uuid</th>\n",
       "      <th>course_uuid</th>\n",
       "      <th>term_code</th>\n",
       "      <th>name</th>\n",
       "    </tr>\n",
       "  </thead>\n",
       "  <tbody>\n",
       "    <tr>\n",
       "      <th>0</th>\n",
       "      <td>THOMAS JAHNS</td>\n",
       "      <td>f850ab24-740c-311a-a669-804a3fea7b0b</td>\n",
       "      <td>f850ab24-740c-311a-a669-804a3fea7b0b</td>\n",
       "      <td>2c3a2a38-9f53-3cfb-8f37-cde4cb3d4b4b</td>\n",
       "      <td>1074</td>\n",
       "      <td>Master's Research or Thesis</td>\n",
       "    </tr>\n",
       "    <tr>\n",
       "      <th>1</th>\n",
       "      <td>JEAN-FRANCOIS HOUDE</td>\n",
       "      <td>7e213b2b-c58b-3014-b3d1-01c0f7ed46ef</td>\n",
       "      <td>7e213b2b-c58b-3014-b3d1-01c0f7ed46ef</td>\n",
       "      <td>622a73dc-c070-38e4-8ba8-2b2c3f7a1056</td>\n",
       "      <td>1082</td>\n",
       "      <td>Wrkshp-Industrl Organizatn</td>\n",
       "    </tr>\n",
       "    <tr>\n",
       "      <th>2</th>\n",
       "      <td>CHRISTOPHER R TABER</td>\n",
       "      <td>3beb7bd7-4877-3c63-8afc-62f8b74e72fc</td>\n",
       "      <td>3beb7bd7-4877-3c63-8afc-62f8b74e72fc</td>\n",
       "      <td>685a727c-fdc0-3ba6-b521-1f236f69b5fa</td>\n",
       "      <td>1164</td>\n",
       "      <td>Workshop - Public Economics</td>\n",
       "    </tr>\n",
       "    <tr>\n",
       "      <th>3</th>\n",
       "      <td>MARISA S OTEGUI</td>\n",
       "      <td>db253216-2e66-3267-86b2-7b9f5fe07223</td>\n",
       "      <td>db253216-2e66-3267-86b2-7b9f5fe07223</td>\n",
       "      <td>abc31e90-8a8f-37bf-9fe0-bacd53aa2a1f</td>\n",
       "      <td>1084</td>\n",
       "      <td>Plant Cell Biology</td>\n",
       "    </tr>\n",
       "  </tbody>\n",
       "</table>\n",
       "</div>"
      ],
      "text/plain": [
       "            instructor                  course_offering_uuid  \\\n",
       "0         THOMAS JAHNS  f850ab24-740c-311a-a669-804a3fea7b0b   \n",
       "1  JEAN-FRANCOIS HOUDE  7e213b2b-c58b-3014-b3d1-01c0f7ed46ef   \n",
       "2  CHRISTOPHER R TABER  3beb7bd7-4877-3c63-8afc-62f8b74e72fc   \n",
       "3      MARISA S OTEGUI  db253216-2e66-3267-86b2-7b9f5fe07223   \n",
       "\n",
       "                                   uuid                           course_uuid  \\\n",
       "0  f850ab24-740c-311a-a669-804a3fea7b0b  2c3a2a38-9f53-3cfb-8f37-cde4cb3d4b4b   \n",
       "1  7e213b2b-c58b-3014-b3d1-01c0f7ed46ef  622a73dc-c070-38e4-8ba8-2b2c3f7a1056   \n",
       "2  3beb7bd7-4877-3c63-8afc-62f8b74e72fc  685a727c-fdc0-3ba6-b521-1f236f69b5fa   \n",
       "3  db253216-2e66-3267-86b2-7b9f5fe07223  abc31e90-8a8f-37bf-9fe0-bacd53aa2a1f   \n",
       "\n",
       "   term_code                         name  \n",
       "0       1074  Master's Research or Thesis  \n",
       "1       1082   Wrkshp-Industrl Organizatn  \n",
       "2       1164  Workshop - Public Economics  \n",
       "3       1084           Plant Cell Biology  "
      ]
     },
     "execution_count": 28,
     "metadata": {},
     "output_type": "execute_result"
    }
   ],
   "source": [
    "step3 = step2.withColumnRenamed(\"name\",\"instructor\").join(course_offerings,step2.course_offering_uuid==course_offerings.uuid,\"inner\")\n",
    "step3.limit(4).toPandas()"
   ]
  },
  {
   "cell_type": "code",
   "execution_count": 29,
   "id": "9871386c",
   "metadata": {},
   "outputs": [],
   "source": [
    "from pyspark.sql.functions import levenshtein"
   ]
  },
  {
   "cell_type": "markdown",
   "id": "9784eb95",
   "metadata": {},
   "source": [
    "#### Levenshtein distance is the distance between two strings such that changing string1 with number of distance to get string2"
   ]
  },
  {
   "cell_type": "code",
   "execution_count": 30,
   "id": "879e8fa6",
   "metadata": {},
   "outputs": [
    {
     "name": "stdout",
     "output_type": "stream",
     "text": [
      "Correct this company name: Aple\n",
      "+-----+\n",
      "|Apple|\n",
      "+-----+\n",
      "|    1|\n",
      "+-----+\n",
      "\n",
      "+---------+\n",
      "|Microsoft|\n",
      "+---------+\n",
      "|        9|\n",
      "+---------+\n",
      "\n",
      "+---+\n",
      "|IBM|\n",
      "+---+\n",
      "|  4|\n",
      "+---+\n",
      "\n"
     ]
    }
   ],
   "source": [
    "df0 = spark.createDataFrame([('Aple', 'Apple','Microsoft','IBM')], ['Input', 'Option1','Option2','Option3'])\n",
    "print(\"Correct this company name: Aple\")\n",
    "df0.select(levenshtein('Input', 'Option1').alias('Apple')).show()\n",
    "df0.select(levenshtein('Input', 'Option2').alias('Microsoft')).show()\n",
    "df0.select(levenshtein('Input', 'Option3').alias('IBM')).show()"
   ]
  }
 ],
 "metadata": {
  "kernelspec": {
   "display_name": "mlenv",
   "language": "python",
   "name": "mlenv"
  },
  "language_info": {
   "codemirror_mode": {
    "name": "ipython",
    "version": 3
   },
   "file_extension": ".py",
   "mimetype": "text/x-python",
   "name": "python",
   "nbconvert_exporter": "python",
   "pygments_lexer": "ipython3",
   "version": "3.8.10"
  }
 },
 "nbformat": 4,
 "nbformat_minor": 5
}
