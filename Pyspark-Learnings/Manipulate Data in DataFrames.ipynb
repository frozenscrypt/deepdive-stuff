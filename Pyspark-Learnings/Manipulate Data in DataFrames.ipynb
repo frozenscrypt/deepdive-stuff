{
 "cells": [
  {
   "cell_type": "markdown",
   "id": "1463623a",
   "metadata": {},
   "source": [
    "## Manipulating data in dataframes to get what we want"
   ]
  },
  {
   "cell_type": "markdown",
   "id": "48e423dd",
   "metadata": {},
   "source": [
    "### Import Pyspark and create SparkSession.\n",
    "\n",
    "This is the first thing to do when working with pyspark. The spark variable will also provide access to a UI to monitor jobs.\n"
   ]
  },
  {
   "cell_type": "code",
   "execution_count": 1,
   "id": "1c6cf418",
   "metadata": {},
   "outputs": [],
   "source": [
    "import pyspark\n",
    "from pyspark.sql import SparkSession\n",
    "spark = SparkSession.builder.appName(\"ManipulateData\").getOrCreate()"
   ]
  },
  {
   "cell_type": "markdown",
   "id": "96752787",
   "metadata": {},
   "source": [
    "### Creating a datraframe"
   ]
  },
  {
   "cell_type": "code",
   "execution_count": 2,
   "id": "1c6ace37",
   "metadata": {},
   "outputs": [],
   "source": [
    "names = spark.createDataFrame([(\"Abraham\",\"Lincoln\")],['first_name','last_name'])"
   ]
  },
  {
   "cell_type": "code",
   "execution_count": 3,
   "id": "4733abfa",
   "metadata": {},
   "outputs": [
    {
     "name": "stdout",
     "output_type": "stream",
     "text": [
      "+----------+---------+\n",
      "|first_name|last_name|\n",
      "+----------+---------+\n",
      "|   Abraham|  Lincoln|\n",
      "+----------+---------+\n",
      "\n"
     ]
    }
   ],
   "source": [
    "names.show()"
   ]
  },
  {
   "cell_type": "markdown",
   "id": "05b89799",
   "metadata": {},
   "source": [
    "Each dataframe has an id property that uniquely determines that dataframe in the current sparksession"
   ]
  },
  {
   "cell_type": "code",
   "execution_count": 4,
   "id": "80d58d61",
   "metadata": {},
   "outputs": [
    {
     "data": {
      "text/plain": [
       "10"
      ]
     },
     "execution_count": 4,
     "metadata": {},
     "output_type": "execute_result"
    }
   ],
   "source": [
    "names.rdd.id()"
   ]
  },
  {
   "cell_type": "markdown",
   "id": "b1cf2626",
   "metadata": {},
   "source": [
    "### Importing functionality from sql.functions to operate on columns"
   ]
  },
  {
   "cell_type": "markdown",
   "id": "f8f31509",
   "metadata": {},
   "source": [
    "Here we are concating the two columns first_name and last_name to have a new column called full_name"
   ]
  },
  {
   "cell_type": "code",
   "execution_count": 5,
   "id": "79d5e770",
   "metadata": {},
   "outputs": [],
   "source": [
    "from pyspark.sql.functions import *\n",
    "names = names.select(names.first_name,names.last_name,concat_ws(' ', names.first_name, names.last_name).alias('full_name'))"
   ]
  },
  {
   "cell_type": "markdown",
   "id": "a9444bb5",
   "metadata": {},
   "source": [
    "#### Property of Spark that it assigns a new id to the dataframe object as it is manipulated "
   ]
  },
  {
   "cell_type": "code",
   "execution_count": 7,
   "id": "5ea3effd",
   "metadata": {},
   "outputs": [
    {
     "data": {
      "text/plain": [
       "14"
      ]
     },
     "execution_count": 7,
     "metadata": {},
     "output_type": "execute_result"
    }
   ],
   "source": [
    "names.rdd.id()"
   ]
  },
  {
   "cell_type": "code",
   "execution_count": 8,
   "id": "089d11d7",
   "metadata": {},
   "outputs": [
    {
     "name": "stdout",
     "output_type": "stream",
     "text": [
      "+----------+---------+---------------+\n",
      "|first_name|last_name|      full_name|\n",
      "+----------+---------+---------------+\n",
      "|   Abraham|  Lincoln|Abraham Lincoln|\n",
      "+----------+---------+---------------+\n",
      "\n"
     ]
    }
   ],
   "source": [
    "names.show()"
   ]
  },
  {
   "cell_type": "code",
   "execution_count": 9,
   "id": "f7edc500",
   "metadata": {},
   "outputs": [],
   "source": [
    "path = 'Datasets/'"
   ]
  },
  {
   "cell_type": "markdown",
   "id": "11cf32bb",
   "metadata": {},
   "source": [
    "#### Reading a CSV into DataFrame"
   ]
  },
  {
   "cell_type": "code",
   "execution_count": 10,
   "id": "3b156243",
   "metadata": {},
   "outputs": [],
   "source": [
    "videos = spark.read.csv(path+\"youtubevideos.csv\",header=True,inferSchema=True)"
   ]
  },
  {
   "cell_type": "code",
   "execution_count": 11,
   "id": "e5bb5b8a",
   "metadata": {},
   "outputs": [
    {
     "data": {
      "text/html": [
       "<div>\n",
       "<style scoped>\n",
       "    .dataframe tbody tr th:only-of-type {\n",
       "        vertical-align: middle;\n",
       "    }\n",
       "\n",
       "    .dataframe tbody tr th {\n",
       "        vertical-align: top;\n",
       "    }\n",
       "\n",
       "    .dataframe thead th {\n",
       "        text-align: right;\n",
       "    }\n",
       "</style>\n",
       "<table border=\"1\" class=\"dataframe\">\n",
       "  <thead>\n",
       "    <tr style=\"text-align: right;\">\n",
       "      <th></th>\n",
       "      <th>video_id</th>\n",
       "      <th>trending_date</th>\n",
       "      <th>title</th>\n",
       "      <th>channel_title</th>\n",
       "      <th>category_id</th>\n",
       "      <th>publish_time</th>\n",
       "      <th>tags</th>\n",
       "      <th>views</th>\n",
       "      <th>likes</th>\n",
       "      <th>dislikes</th>\n",
       "      <th>comment_count</th>\n",
       "      <th>thumbnail_link</th>\n",
       "      <th>comments_disabled</th>\n",
       "      <th>ratings_disabled</th>\n",
       "      <th>video_error_or_removed</th>\n",
       "      <th>description</th>\n",
       "    </tr>\n",
       "  </thead>\n",
       "  <tbody>\n",
       "    <tr>\n",
       "      <th>0</th>\n",
       "      <td>2kyS6SvSYSE</td>\n",
       "      <td>17.14.11</td>\n",
       "      <td>WE WANT TO TALK ABOUT OUR MARRIAGE</td>\n",
       "      <td>CaseyNeistat</td>\n",
       "      <td>22</td>\n",
       "      <td>2017-11-13T17:13:01.000Z</td>\n",
       "      <td>SHANtell martin</td>\n",
       "      <td>748374</td>\n",
       "      <td>57527</td>\n",
       "      <td>2966</td>\n",
       "      <td>15954</td>\n",
       "      <td>https://i.ytimg.com/vi/2kyS6SvSYSE/default.jpg</td>\n",
       "      <td>False</td>\n",
       "      <td>False</td>\n",
       "      <td>False</td>\n",
       "      <td>SHANTELL'S CHANNEL - https://www.youtube.com/s...</td>\n",
       "    </tr>\n",
       "    <tr>\n",
       "      <th>1</th>\n",
       "      <td>1ZAPwfrtAFY</td>\n",
       "      <td>17.14.11</td>\n",
       "      <td>The Trump Presidency: Last Week Tonight with J...</td>\n",
       "      <td>LastWeekTonight</td>\n",
       "      <td>24</td>\n",
       "      <td>2017-11-13T07:30:00.000Z</td>\n",
       "      <td>\"last week tonight trump presidency\"|\"last wee...</td>\n",
       "      <td>2418783</td>\n",
       "      <td>97185</td>\n",
       "      <td>6146</td>\n",
       "      <td>12703</td>\n",
       "      <td>https://i.ytimg.com/vi/1ZAPwfrtAFY/default.jpg</td>\n",
       "      <td>False</td>\n",
       "      <td>False</td>\n",
       "      <td>False</td>\n",
       "      <td>One year after the presidential election, John...</td>\n",
       "    </tr>\n",
       "    <tr>\n",
       "      <th>2</th>\n",
       "      <td>5qpjK5DgCt4</td>\n",
       "      <td>17.14.11</td>\n",
       "      <td>Racist Superman | Rudy Mancuso, King Bach &amp; Le...</td>\n",
       "      <td>Rudy Mancuso</td>\n",
       "      <td>23</td>\n",
       "      <td>2017-11-12T19:05:24.000Z</td>\n",
       "      <td>\"racist superman\"|\"rudy\"|\"mancuso\"|\"king\"|\"bac...</td>\n",
       "      <td>3191434</td>\n",
       "      <td>146033</td>\n",
       "      <td>5339</td>\n",
       "      <td>8181</td>\n",
       "      <td>https://i.ytimg.com/vi/5qpjK5DgCt4/default.jpg</td>\n",
       "      <td>False</td>\n",
       "      <td>False</td>\n",
       "      <td>False</td>\n",
       "      <td>WATCH MY PREVIOUS VIDEO ▶ \\n\\nSUBSCRIBE ► http...</td>\n",
       "    </tr>\n",
       "    <tr>\n",
       "      <th>3</th>\n",
       "      <td>puqaWrEC7tY</td>\n",
       "      <td>17.14.11</td>\n",
       "      <td>Nickelback Lyrics: Real or Fake?</td>\n",
       "      <td>Good Mythical Morning</td>\n",
       "      <td>24</td>\n",
       "      <td>2017-11-13T11:00:04.000Z</td>\n",
       "      <td>\"rhett and link\"|\"gmm\"|\"good mythical morning\"...</td>\n",
       "      <td>343168</td>\n",
       "      <td>10172</td>\n",
       "      <td>666</td>\n",
       "      <td>2146</td>\n",
       "      <td>https://i.ytimg.com/vi/puqaWrEC7tY/default.jpg</td>\n",
       "      <td>False</td>\n",
       "      <td>False</td>\n",
       "      <td>False</td>\n",
       "      <td>Today we find out if Link is a Nickelback amat...</td>\n",
       "    </tr>\n",
       "  </tbody>\n",
       "</table>\n",
       "</div>"
      ],
      "text/plain": [
       "      video_id trending_date  \\\n",
       "0  2kyS6SvSYSE      17.14.11   \n",
       "1  1ZAPwfrtAFY      17.14.11   \n",
       "2  5qpjK5DgCt4      17.14.11   \n",
       "3  puqaWrEC7tY      17.14.11   \n",
       "\n",
       "                                               title          channel_title  \\\n",
       "0                 WE WANT TO TALK ABOUT OUR MARRIAGE           CaseyNeistat   \n",
       "1  The Trump Presidency: Last Week Tonight with J...        LastWeekTonight   \n",
       "2  Racist Superman | Rudy Mancuso, King Bach & Le...           Rudy Mancuso   \n",
       "3                   Nickelback Lyrics: Real or Fake?  Good Mythical Morning   \n",
       "\n",
       "  category_id              publish_time  \\\n",
       "0          22  2017-11-13T17:13:01.000Z   \n",
       "1          24  2017-11-13T07:30:00.000Z   \n",
       "2          23  2017-11-12T19:05:24.000Z   \n",
       "3          24  2017-11-13T11:00:04.000Z   \n",
       "\n",
       "                                                tags    views   likes  \\\n",
       "0                                    SHANtell martin   748374   57527   \n",
       "1  \"last week tonight trump presidency\"|\"last wee...  2418783   97185   \n",
       "2  \"racist superman\"|\"rudy\"|\"mancuso\"|\"king\"|\"bac...  3191434  146033   \n",
       "3  \"rhett and link\"|\"gmm\"|\"good mythical morning\"...   343168   10172   \n",
       "\n",
       "  dislikes comment_count                                  thumbnail_link  \\\n",
       "0     2966         15954  https://i.ytimg.com/vi/2kyS6SvSYSE/default.jpg   \n",
       "1     6146         12703  https://i.ytimg.com/vi/1ZAPwfrtAFY/default.jpg   \n",
       "2     5339          8181  https://i.ytimg.com/vi/5qpjK5DgCt4/default.jpg   \n",
       "3      666          2146  https://i.ytimg.com/vi/puqaWrEC7tY/default.jpg   \n",
       "\n",
       "  comments_disabled ratings_disabled video_error_or_removed  \\\n",
       "0             False            False                  False   \n",
       "1             False            False                  False   \n",
       "2             False            False                  False   \n",
       "3             False            False                  False   \n",
       "\n",
       "                                         description  \n",
       "0  SHANTELL'S CHANNEL - https://www.youtube.com/s...  \n",
       "1  One year after the presidential election, John...  \n",
       "2  WATCH MY PREVIOUS VIDEO ▶ \\n\\nSUBSCRIBE ► http...  \n",
       "3  Today we find out if Link is a Nickelback amat...  "
      ]
     },
     "execution_count": 11,
     "metadata": {},
     "output_type": "execute_result"
    }
   ],
   "source": [
    "videos.limit(4).toPandas()"
   ]
  },
  {
   "cell_type": "code",
   "execution_count": 12,
   "id": "80006b20",
   "metadata": {},
   "outputs": [
    {
     "name": "stdout",
     "output_type": "stream",
     "text": [
      "root\n",
      " |-- video_id: string (nullable = true)\n",
      " |-- trending_date: string (nullable = true)\n",
      " |-- title: string (nullable = true)\n",
      " |-- channel_title: string (nullable = true)\n",
      " |-- category_id: string (nullable = true)\n",
      " |-- publish_time: string (nullable = true)\n",
      " |-- tags: string (nullable = true)\n",
      " |-- views: string (nullable = true)\n",
      " |-- likes: string (nullable = true)\n",
      " |-- dislikes: string (nullable = true)\n",
      " |-- comment_count: string (nullable = true)\n",
      " |-- thumbnail_link: string (nullable = true)\n",
      " |-- comments_disabled: string (nullable = true)\n",
      " |-- ratings_disabled: string (nullable = true)\n",
      " |-- video_error_or_removed: string (nullable = true)\n",
      " |-- description: string (nullable = true)\n",
      "\n"
     ]
    }
   ],
   "source": [
    "videos.printSchema()"
   ]
  },
  {
   "cell_type": "markdown",
   "id": "1c1b6a28",
   "metadata": {},
   "source": [
    "### Importing datatypes from sql.types as we will change the datatype of some columns"
   ]
  },
  {
   "cell_type": "code",
   "execution_count": 13,
   "id": "bcefdd74",
   "metadata": {},
   "outputs": [],
   "source": [
    "from pyspark.sql.types import *"
   ]
  },
  {
   "cell_type": "code",
   "execution_count": 19,
   "id": "54fd54f8",
   "metadata": {},
   "outputs": [
    {
     "name": "stdout",
     "output_type": "stream",
     "text": [
      "root\n",
      " |-- video_id: string (nullable = true)\n",
      " |-- trending_date: date (nullable = true)\n",
      " |-- title: string (nullable = true)\n",
      " |-- channel_title: string (nullable = true)\n",
      " |-- category_id: string (nullable = true)\n",
      " |-- publish_time: string (nullable = true)\n",
      " |-- tags: string (nullable = true)\n",
      " |-- views: integer (nullable = true)\n",
      " |-- likes: integer (nullable = true)\n",
      " |-- dislikes: integer (nullable = true)\n",
      " |-- comment_count: string (nullable = true)\n",
      " |-- thumbnail_link: string (nullable = true)\n",
      " |-- comments_disabled: string (nullable = true)\n",
      " |-- ratings_disabled: string (nullable = true)\n",
      " |-- video_error_or_removed: string (nullable = true)\n",
      " |-- description: string (nullable = true)\n",
      "\n",
      "None\n"
     ]
    },
    {
     "data": {
      "text/html": [
       "<div>\n",
       "<style scoped>\n",
       "    .dataframe tbody tr th:only-of-type {\n",
       "        vertical-align: middle;\n",
       "    }\n",
       "\n",
       "    .dataframe tbody tr th {\n",
       "        vertical-align: top;\n",
       "    }\n",
       "\n",
       "    .dataframe thead th {\n",
       "        text-align: right;\n",
       "    }\n",
       "</style>\n",
       "<table border=\"1\" class=\"dataframe\">\n",
       "  <thead>\n",
       "    <tr style=\"text-align: right;\">\n",
       "      <th></th>\n",
       "      <th>video_id</th>\n",
       "      <th>trending_date</th>\n",
       "      <th>title</th>\n",
       "      <th>channel_title</th>\n",
       "      <th>category_id</th>\n",
       "      <th>publish_time</th>\n",
       "      <th>tags</th>\n",
       "      <th>views</th>\n",
       "      <th>likes</th>\n",
       "      <th>dislikes</th>\n",
       "      <th>comment_count</th>\n",
       "      <th>thumbnail_link</th>\n",
       "      <th>comments_disabled</th>\n",
       "      <th>ratings_disabled</th>\n",
       "      <th>video_error_or_removed</th>\n",
       "      <th>description</th>\n",
       "    </tr>\n",
       "  </thead>\n",
       "  <tbody>\n",
       "    <tr>\n",
       "      <th>0</th>\n",
       "      <td>2kyS6SvSYSE</td>\n",
       "      <td>2011-01-17</td>\n",
       "      <td>WE WANT TO TALK ABOUT OUR MARRIAGE</td>\n",
       "      <td>CaseyNeistat</td>\n",
       "      <td>22</td>\n",
       "      <td>2017-11-13T17:13:01.000Z</td>\n",
       "      <td>SHANtell martin</td>\n",
       "      <td>748374</td>\n",
       "      <td>57527</td>\n",
       "      <td>2966</td>\n",
       "      <td>15954</td>\n",
       "      <td>https://i.ytimg.com/vi/2kyS6SvSYSE/default.jpg</td>\n",
       "      <td>False</td>\n",
       "      <td>False</td>\n",
       "      <td>False</td>\n",
       "      <td>SHANTELL'S CHANNEL - https://www.youtube.com/s...</td>\n",
       "    </tr>\n",
       "    <tr>\n",
       "      <th>1</th>\n",
       "      <td>1ZAPwfrtAFY</td>\n",
       "      <td>2011-01-17</td>\n",
       "      <td>The Trump Presidency: Last Week Tonight with J...</td>\n",
       "      <td>LastWeekTonight</td>\n",
       "      <td>24</td>\n",
       "      <td>2017-11-13T07:30:00.000Z</td>\n",
       "      <td>\"last week tonight trump presidency\"|\"last wee...</td>\n",
       "      <td>2418783</td>\n",
       "      <td>97185</td>\n",
       "      <td>6146</td>\n",
       "      <td>12703</td>\n",
       "      <td>https://i.ytimg.com/vi/1ZAPwfrtAFY/default.jpg</td>\n",
       "      <td>False</td>\n",
       "      <td>False</td>\n",
       "      <td>False</td>\n",
       "      <td>One year after the presidential election, John...</td>\n",
       "    </tr>\n",
       "    <tr>\n",
       "      <th>2</th>\n",
       "      <td>5qpjK5DgCt4</td>\n",
       "      <td>2011-01-17</td>\n",
       "      <td>Racist Superman | Rudy Mancuso, King Bach &amp; Le...</td>\n",
       "      <td>Rudy Mancuso</td>\n",
       "      <td>23</td>\n",
       "      <td>2017-11-12T19:05:24.000Z</td>\n",
       "      <td>\"racist superman\"|\"rudy\"|\"mancuso\"|\"king\"|\"bac...</td>\n",
       "      <td>3191434</td>\n",
       "      <td>146033</td>\n",
       "      <td>5339</td>\n",
       "      <td>8181</td>\n",
       "      <td>https://i.ytimg.com/vi/5qpjK5DgCt4/default.jpg</td>\n",
       "      <td>False</td>\n",
       "      <td>False</td>\n",
       "      <td>False</td>\n",
       "      <td>WATCH MY PREVIOUS VIDEO ▶ \\n\\nSUBSCRIBE ► http...</td>\n",
       "    </tr>\n",
       "    <tr>\n",
       "      <th>3</th>\n",
       "      <td>puqaWrEC7tY</td>\n",
       "      <td>2011-01-17</td>\n",
       "      <td>Nickelback Lyrics: Real or Fake?</td>\n",
       "      <td>Good Mythical Morning</td>\n",
       "      <td>24</td>\n",
       "      <td>2017-11-13T11:00:04.000Z</td>\n",
       "      <td>\"rhett and link\"|\"gmm\"|\"good mythical morning\"...</td>\n",
       "      <td>343168</td>\n",
       "      <td>10172</td>\n",
       "      <td>666</td>\n",
       "      <td>2146</td>\n",
       "      <td>https://i.ytimg.com/vi/puqaWrEC7tY/default.jpg</td>\n",
       "      <td>False</td>\n",
       "      <td>False</td>\n",
       "      <td>False</td>\n",
       "      <td>Today we find out if Link is a Nickelback amat...</td>\n",
       "    </tr>\n",
       "  </tbody>\n",
       "</table>\n",
       "</div>"
      ],
      "text/plain": [
       "      video_id trending_date  \\\n",
       "0  2kyS6SvSYSE    2011-01-17   \n",
       "1  1ZAPwfrtAFY    2011-01-17   \n",
       "2  5qpjK5DgCt4    2011-01-17   \n",
       "3  puqaWrEC7tY    2011-01-17   \n",
       "\n",
       "                                               title          channel_title  \\\n",
       "0                 WE WANT TO TALK ABOUT OUR MARRIAGE           CaseyNeistat   \n",
       "1  The Trump Presidency: Last Week Tonight with J...        LastWeekTonight   \n",
       "2  Racist Superman | Rudy Mancuso, King Bach & Le...           Rudy Mancuso   \n",
       "3                   Nickelback Lyrics: Real or Fake?  Good Mythical Morning   \n",
       "\n",
       "  category_id              publish_time  \\\n",
       "0          22  2017-11-13T17:13:01.000Z   \n",
       "1          24  2017-11-13T07:30:00.000Z   \n",
       "2          23  2017-11-12T19:05:24.000Z   \n",
       "3          24  2017-11-13T11:00:04.000Z   \n",
       "\n",
       "                                                tags    views   likes  \\\n",
       "0                                    SHANtell martin   748374   57527   \n",
       "1  \"last week tonight trump presidency\"|\"last wee...  2418783   97185   \n",
       "2  \"racist superman\"|\"rudy\"|\"mancuso\"|\"king\"|\"bac...  3191434  146033   \n",
       "3  \"rhett and link\"|\"gmm\"|\"good mythical morning\"...   343168   10172   \n",
       "\n",
       "   dislikes comment_count                                  thumbnail_link  \\\n",
       "0      2966         15954  https://i.ytimg.com/vi/2kyS6SvSYSE/default.jpg   \n",
       "1      6146         12703  https://i.ytimg.com/vi/1ZAPwfrtAFY/default.jpg   \n",
       "2      5339          8181  https://i.ytimg.com/vi/5qpjK5DgCt4/default.jpg   \n",
       "3       666          2146  https://i.ytimg.com/vi/puqaWrEC7tY/default.jpg   \n",
       "\n",
       "  comments_disabled ratings_disabled video_error_or_removed  \\\n",
       "0             False            False                  False   \n",
       "1             False            False                  False   \n",
       "2             False            False                  False   \n",
       "3             False            False                  False   \n",
       "\n",
       "                                         description  \n",
       "0  SHANTELL'S CHANNEL - https://www.youtube.com/s...  \n",
       "1  One year after the presidential election, John...  \n",
       "2  WATCH MY PREVIOUS VIDEO ▶ \\n\\nSUBSCRIBE ► http...  \n",
       "3  Today we find out if Link is a Nickelback amat...  "
      ]
     },
     "execution_count": 19,
     "metadata": {},
     "output_type": "execute_result"
    }
   ],
   "source": [
    "df = videos.withColumn(\"views\",videos['views'].cast(IntegerType())) \\\n",
    "        .withColumn(\"likes\", videos[\"likes\"].cast(IntegerType())) \\\n",
    "        .withColumn(\"dislikes\", videos[\"dislikes\"].cast(IntegerType())) \\\n",
    "        .withColumn(\"trending_date\", to_date(videos.trending_date, 'dd.mm.yy')) \\\n",
    "#         .withColumn(\"publish_time\", to_timestamp(videos.publish_time, 'yyyy-MM-dd HH:mm:ss:ms'))\n",
    "'''The reason this is commented is because to_timestamp will not be able to infer the correct\n",
    "timestamp because the trending_date columns has invalid characters in its values like T and Z.\n",
    "We need to remove them first'''\n",
    "print(df.printSchema())\n",
    "df.limit(4).toPandas()"
   ]
  },
  {
   "cell_type": "code",
   "execution_count": 20,
   "id": "a26ce4d9",
   "metadata": {},
   "outputs": [],
   "source": [
    "from pyspark.sql.functions import *"
   ]
  },
  {
   "cell_type": "markdown",
   "id": "f2869345",
   "metadata": {},
   "source": [
    "Replacing T with space character using regexp_replace from sql.functions"
   ]
  },
  {
   "cell_type": "code",
   "execution_count": 23,
   "id": "2d4b90ef",
   "metadata": {},
   "outputs": [],
   "source": [
    "df = df.withColumn(\"publish_time_2\",regexp_replace(df.publish_time,\"T\",\" \"))"
   ]
  },
  {
   "cell_type": "markdown",
   "id": "3118d392",
   "metadata": {},
   "source": [
    "Replacing z with empty character using regexp_replace from sql.functions"
   ]
  },
  {
   "cell_type": "code",
   "execution_count": 24,
   "id": "f12519d3",
   "metadata": {},
   "outputs": [],
   "source": [
    "df = df.withColumn(\"publish_time_2\", regexp_replace(df.publish_time_2,\"Z\",\"\"))"
   ]
  },
  {
   "cell_type": "code",
   "execution_count": 25,
   "id": "6646717f",
   "metadata": {},
   "outputs": [
    {
     "name": "stdout",
     "output_type": "stream",
     "text": [
      "+-----------------------+\n",
      "|publish_time_2         |\n",
      "+-----------------------+\n",
      "|2017-11-13 17:13:01.000|\n",
      "|2017-11-13 07:30:00.000|\n",
      "|2017-11-12 19:05:24.000|\n",
      "|2017-11-13 11:00:04.000|\n",
      "|2017-11-12 18:01:41.000|\n",
      "+-----------------------+\n",
      "only showing top 5 rows\n",
      "\n"
     ]
    }
   ],
   "source": [
    "df.select('publish_time_2').show(5,False)"
   ]
  },
  {
   "cell_type": "markdown",
   "id": "1cec075a",
   "metadata": {},
   "source": [
    "Now we can cast the publish_time_3 column to_timestamp"
   ]
  },
  {
   "cell_type": "code",
   "execution_count": 26,
   "id": "033f041c",
   "metadata": {},
   "outputs": [],
   "source": [
    "df = df.withColumn(\"publish_time_3\",to_timestamp(df.publish_time_2,'yyyy-MM-dd HH:mm:ss.SSS'))"
   ]
  },
  {
   "cell_type": "code",
   "execution_count": 29,
   "id": "8fdff819",
   "metadata": {},
   "outputs": [
    {
     "name": "stdout",
     "output_type": "stream",
     "text": [
      "root\n",
      " |-- video_id: string (nullable = true)\n",
      " |-- trending_date: date (nullable = true)\n",
      " |-- title: string (nullable = true)\n",
      " |-- channel_title: string (nullable = true)\n",
      " |-- category_id: string (nullable = true)\n",
      " |-- publish_time: string (nullable = true)\n",
      " |-- tags: string (nullable = true)\n",
      " |-- views: integer (nullable = true)\n",
      " |-- likes: integer (nullable = true)\n",
      " |-- dislikes: integer (nullable = true)\n",
      " |-- comment_count: string (nullable = true)\n",
      " |-- thumbnail_link: string (nullable = true)\n",
      " |-- comments_disabled: string (nullable = true)\n",
      " |-- ratings_disabled: string (nullable = true)\n",
      " |-- video_error_or_removed: string (nullable = true)\n",
      " |-- description: string (nullable = true)\n",
      " |-- publish_time_2: string (nullable = true)\n",
      " |-- publish_time_3: timestamp (nullable = true)\n",
      "\n"
     ]
    }
   ],
   "source": [
    "df.printSchema()"
   ]
  },
  {
   "cell_type": "markdown",
   "id": "8f2e9f6c",
   "metadata": {},
   "source": [
    "### Renaming a column"
   ]
  },
  {
   "cell_type": "code",
   "execution_count": 29,
   "id": "e7b8306c",
   "metadata": {},
   "outputs": [],
   "source": [
    "renamed = df.withColumnRenamed(\"new\",\"publish_time_3\")"
   ]
  },
  {
   "cell_type": "markdown",
   "id": "51aafabf",
   "metadata": {},
   "source": [
    "### We can achieve same result as above for timestamp using translate. It allows for single literal replacement as show. Here T is replaced with space and Z with empty string. That's why we see only one space character"
   ]
  },
  {
   "cell_type": "code",
   "execution_count": 28,
   "id": "c78654ec",
   "metadata": {},
   "outputs": [
    {
     "name": "stdout",
     "output_type": "stream",
     "text": [
      "+------------------------+-----------------------+\n",
      "|publish_time            |trans                  |\n",
      "+------------------------+-----------------------+\n",
      "|2017-11-13T17:13:01.000Z|2017-11-13 17:13:01.000|\n",
      "|2017-11-13T07:30:00.000Z|2017-11-13 07:30:00.000|\n",
      "|2017-11-12T19:05:24.000Z|2017-11-12 19:05:24.000|\n",
      "|2017-11-13T11:00:04.000Z|2017-11-13 11:00:04.000|\n",
      "|2017-11-12T18:01:41.000Z|2017-11-12 18:01:41.000|\n",
      "+------------------------+-----------------------+\n",
      "only showing top 5 rows\n",
      "\n"
     ]
    }
   ],
   "source": [
    "df.select(\"publish_time\",translate(col(\"publish_time\"),\"TZ\",\" \").alias(\"trans\")).show(5,False)"
   ]
  },
  {
   "cell_type": "markdown",
   "id": "c732c116",
   "metadata": {},
   "source": [
    "#### Removing white spaces"
   ]
  },
  {
   "cell_type": "code",
   "execution_count": 30,
   "id": "764a7928",
   "metadata": {},
   "outputs": [],
   "source": [
    "df = df.withColumn(\"title\",trim(df.title))#rtrim,ltrim"
   ]
  },
  {
   "cell_type": "code",
   "execution_count": 31,
   "id": "3ab51311",
   "metadata": {},
   "outputs": [
    {
     "name": "stdout",
     "output_type": "stream",
     "text": [
      "+--------------------+\n",
      "|               title|\n",
      "+--------------------+\n",
      "|WE WANT TO TALK A...|\n",
      "|The Trump Preside...|\n",
      "|Racist Superman |...|\n",
      "|Nickelback Lyrics...|\n",
      "|I Dare You: GOING...|\n",
      "|2 Weeks with iPho...|\n",
      "|Roy Moore & Jeff ...|\n",
      "|5 Ice Cream Gadge...|\n",
      "|The Greatest Show...|\n",
      "|Why the rise of t...|\n",
      "|Dion Lewis' 103-Y...|\n",
      "|(SPOILERS) 'Shiva...|\n",
      "|Marshmello - Bloc...|\n",
      "|Which Countries A...|\n",
      "|SHOPPING FOR NEW ...|\n",
      "|    The New SpotMini|\n",
      "|One Change That W...|\n",
      "|How does your bod...|\n",
      "|HomeMade Electric...|\n",
      "|Founding An Inbre...|\n",
      "+--------------------+\n",
      "only showing top 20 rows\n",
      "\n"
     ]
    }
   ],
   "source": [
    "df.select(\"title\").show()"
   ]
  },
  {
   "cell_type": "markdown",
   "id": "9d94c6fe",
   "metadata": {},
   "source": [
    "#### Making characters lowercase"
   ]
  },
  {
   "cell_type": "code",
   "execution_count": 34,
   "id": "9e658806",
   "metadata": {},
   "outputs": [
    {
     "name": "stdout",
     "output_type": "stream",
     "text": [
      "+--------------------------------------------------------------+--------------------------------------------------------------+\n",
      "|title                                                         |lower(title)                                                  |\n",
      "+--------------------------------------------------------------+--------------------------------------------------------------+\n",
      "|WE WANT TO TALK ABOUT OUR MARRIAGE                            |we want to talk about our marriage                            |\n",
      "|The Trump Presidency: Last Week Tonight with John Oliver (HBO)|the trump presidency: last week tonight with john oliver (hbo)|\n",
      "|Racist Superman | Rudy Mancuso, King Bach & Lele Pons         |racist superman | rudy mancuso, king bach & lele pons         |\n",
      "|Nickelback Lyrics: Real or Fake?                              |nickelback lyrics: real or fake?                              |\n",
      "|I Dare You: GOING BALD!?                                      |i dare you: going bald!?                                      |\n",
      "+--------------------------------------------------------------+--------------------------------------------------------------+\n",
      "only showing top 5 rows\n",
      "\n"
     ]
    }
   ],
   "source": [
    "df.select(\"title\",lower(df.title)).show(5,False)"
   ]
  },
  {
   "cell_type": "markdown",
   "id": "4526f999",
   "metadata": {},
   "source": [
    "### Perfoming if-else like operations on the columns as shown in the example below\n",
    "Here when is a function from sql.functions is used to know if likes>dislikes then say good. When likes<dislikes then say bad. Otherwise say undetermined"
   ]
  },
  {
   "cell_type": "code",
   "execution_count": 32,
   "id": "3860a1cb",
   "metadata": {},
   "outputs": [
    {
     "data": {
      "text/html": [
       "<div>\n",
       "<style scoped>\n",
       "    .dataframe tbody tr th:only-of-type {\n",
       "        vertical-align: middle;\n",
       "    }\n",
       "\n",
       "    .dataframe tbody tr th {\n",
       "        vertical-align: top;\n",
       "    }\n",
       "\n",
       "    .dataframe thead th {\n",
       "        text-align: right;\n",
       "    }\n",
       "</style>\n",
       "<table border=\"1\" class=\"dataframe\">\n",
       "  <thead>\n",
       "    <tr style=\"text-align: right;\">\n",
       "      <th></th>\n",
       "      <th>likes</th>\n",
       "      <th>dislikes</th>\n",
       "      <th>favorability</th>\n",
       "    </tr>\n",
       "  </thead>\n",
       "  <tbody>\n",
       "    <tr>\n",
       "      <th>0</th>\n",
       "      <td>57527</td>\n",
       "      <td>2966</td>\n",
       "      <td>good</td>\n",
       "    </tr>\n",
       "    <tr>\n",
       "      <th>1</th>\n",
       "      <td>97185</td>\n",
       "      <td>6146</td>\n",
       "      <td>good</td>\n",
       "    </tr>\n",
       "    <tr>\n",
       "      <th>2</th>\n",
       "      <td>146033</td>\n",
       "      <td>5339</td>\n",
       "      <td>good</td>\n",
       "    </tr>\n",
       "    <tr>\n",
       "      <th>3</th>\n",
       "      <td>10172</td>\n",
       "      <td>666</td>\n",
       "      <td>good</td>\n",
       "    </tr>\n",
       "    <tr>\n",
       "      <th>4</th>\n",
       "      <td>132235</td>\n",
       "      <td>1989</td>\n",
       "      <td>good</td>\n",
       "    </tr>\n",
       "  </tbody>\n",
       "</table>\n",
       "</div>"
      ],
      "text/plain": [
       "    likes  dislikes favorability\n",
       "0   57527      2966         good\n",
       "1   97185      6146         good\n",
       "2  146033      5339         good\n",
       "3   10172       666         good\n",
       "4  132235      1989         good"
      ]
     },
     "execution_count": 32,
     "metadata": {},
     "output_type": "execute_result"
    }
   ],
   "source": [
    "df.select(\"likes\",\"dislikes\",(when(df.likes>df.dislikes,'good').when(df.likes<df.dislikes,'bad').otherwise(\"undetermined\")).alias(\"favorability\")).limit(5).toPandas()"
   ]
  },
  {
   "cell_type": "markdown",
   "id": "6d2c501f",
   "metadata": {},
   "source": [
    "Do the same with an SQL-like statement by using expr"
   ]
  },
  {
   "cell_type": "code",
   "execution_count": 33,
   "id": "9cf93f02",
   "metadata": {},
   "outputs": [
    {
     "name": "stdout",
     "output_type": "stream",
     "text": [
      "+------+--------+------------+\n",
      "| likes|dislikes|favorability|\n",
      "+------+--------+------------+\n",
      "| 57527|    2966|        good|\n",
      "| 97185|    6146|        good|\n",
      "|146033|    5339|        good|\n",
      "+------+--------+------------+\n",
      "only showing top 3 rows\n",
      "\n"
     ]
    }
   ],
   "source": [
    "df.select('likes','dislikes',expr(\"CASE WHEN likes>dislikes THEN 'good' WHEN dislikes>likes THEN 'bad' ELSE 'undetermined' END AS favorability\")).show(3)"
   ]
  },
  {
   "cell_type": "markdown",
   "id": "38618637",
   "metadata": {},
   "source": [
    "Making it more SQL-like with selectExpr"
   ]
  },
  {
   "cell_type": "code",
   "execution_count": 34,
   "id": "63212413",
   "metadata": {},
   "outputs": [
    {
     "name": "stdout",
     "output_type": "stream",
     "text": [
      "+------+--------+------------+\n",
      "| likes|dislikes|favorability|\n",
      "+------+--------+------------+\n",
      "| 57527|    2966|        good|\n",
      "| 97185|    6146|        good|\n",
      "|146033|    5339|        good|\n",
      "+------+--------+------------+\n",
      "only showing top 3 rows\n",
      "\n"
     ]
    }
   ],
   "source": [
    "df.selectExpr(\"likes\",\"dislikes\",\"CASE WHEN likes>dislikes THEN 'good' WHEN dislikes>likes THEN 'bad' ELSE 'undetermined' END AS favorability\").show(3)"
   ]
  },
  {
   "cell_type": "markdown",
   "id": "39b896e5",
   "metadata": {},
   "source": [
    "Some more concatentation"
   ]
  },
  {
   "cell_type": "code",
   "execution_count": 36,
   "id": "3b8e5e98",
   "metadata": {},
   "outputs": [
    {
     "name": "stdout",
     "output_type": "stream",
     "text": [
      "+------------------------------------------------------------------------------+\n",
      "|text                                                                          |\n",
      "+------------------------------------------------------------------------------+\n",
      "|WE WANT TO TALK ABOUT OUR MARRIAGE CaseyNeistat                               |\n",
      "|The Trump Presidency: Last Week Tonight with John Oliver (HBO) LastWeekTonight|\n",
      "|Racist Superman | Rudy Mancuso, King Bach & Lele Pons Rudy Mancuso            |\n",
      "|Nickelback Lyrics: Real or Fake? Good Mythical Morning                        |\n",
      "|I Dare You: GOING BALD!? nigahiga                                             |\n",
      "+------------------------------------------------------------------------------+\n",
      "only showing top 5 rows\n",
      "\n"
     ]
    }
   ],
   "source": [
    "df.select(concat_ws(' ',df.title,df.channel_title).alias(\"text\")).show(5,False)"
   ]
  },
  {
   "cell_type": "markdown",
   "id": "06a4c064",
   "metadata": {},
   "source": [
    "#### Let's extract year and month from the trending_date column"
   ]
  },
  {
   "cell_type": "code",
   "execution_count": 37,
   "id": "1632e767",
   "metadata": {},
   "outputs": [
    {
     "name": "stdout",
     "output_type": "stream",
     "text": [
      "+-------------+-------------------+--------------------+\n",
      "|trending_date|year(trending_date)|month(trending_date)|\n",
      "+-------------+-------------------+--------------------+\n",
      "|   2011-01-17|               2011|                   1|\n",
      "|   2011-01-17|               2011|                   1|\n",
      "|   2011-01-17|               2011|                   1|\n",
      "|   2011-01-17|               2011|                   1|\n",
      "|   2011-01-17|               2011|                   1|\n",
      "+-------------+-------------------+--------------------+\n",
      "only showing top 5 rows\n",
      "\n"
     ]
    }
   ],
   "source": [
    "df.select(\"trending_date\",year(\"trending_date\"),month(\"trending_date\")).show(5)"
   ]
  },
  {
   "cell_type": "markdown",
   "id": "023c41cf",
   "metadata": {},
   "source": [
    "#### Get differenc between two dates. You might realize we can't just subtract.\n",
    "If you want the years, divide by 365"
   ]
  },
  {
   "cell_type": "code",
   "execution_count": 38,
   "id": "169cd856",
   "metadata": {
    "scrolled": true
   },
   "outputs": [
    {
     "name": "stdout",
     "output_type": "stream",
     "text": [
      "+-------------+-------------------+----------+\n",
      "|trending_date|     publish_time_3|difference|\n",
      "+-------------+-------------------+----------+\n",
      "|   2011-01-17|2017-11-13 17:13:01|      2492|\n",
      "|   2011-01-17|2017-11-13 07:30:00|      2492|\n",
      "|   2011-01-17|2017-11-12 19:05:24|      2491|\n",
      "|   2011-01-17|2017-11-13 11:00:04|      2492|\n",
      "|   2011-01-17|2017-11-12 18:01:41|      2491|\n",
      "+-------------+-------------------+----------+\n",
      "only showing top 5 rows\n",
      "\n"
     ]
    }
   ],
   "source": [
    "df.select(\"trending_date\",\"publish_time_3\",datediff(df.publish_time_3,df.trending_date).alias('difference')).show(5)"
   ]
  },
  {
   "cell_type": "markdown",
   "id": "1bb80b76",
   "metadata": {},
   "source": [
    "### Split a column and convert into an array"
   ]
  },
  {
   "cell_type": "code",
   "execution_count": 39,
   "id": "362b2b43",
   "metadata": {},
   "outputs": [],
   "source": [
    "array = df.select(\"title\",split(df.title,\" \").alias(\"new\"))"
   ]
  },
  {
   "cell_type": "code",
   "execution_count": 40,
   "id": "0d0a1222",
   "metadata": {
    "scrolled": true
   },
   "outputs": [
    {
     "name": "stdout",
     "output_type": "stream",
     "text": [
      "+--------------------------------------------------------------+-------------------------------------------------------------------------+\n",
      "|title                                                         |new                                                                      |\n",
      "+--------------------------------------------------------------+-------------------------------------------------------------------------+\n",
      "|WE WANT TO TALK ABOUT OUR MARRIAGE                            |[WE, WANT, TO, TALK, ABOUT, OUR, MARRIAGE]                               |\n",
      "|The Trump Presidency: Last Week Tonight with John Oliver (HBO)|[The, Trump, Presidency:, Last, Week, Tonight, with, John, Oliver, (HBO)]|\n",
      "|Racist Superman | Rudy Mancuso, King Bach & Lele Pons         |[Racist, Superman, |, Rudy, Mancuso,, King, Bach, &, Lele, Pons]         |\n",
      "|Nickelback Lyrics: Real or Fake?                              |[Nickelback, Lyrics:, Real, or, Fake?]                                   |\n",
      "|I Dare You: GOING BALD!?                                      |[I, Dare, You:, GOING, BALD!?]                                           |\n",
      "+--------------------------------------------------------------+-------------------------------------------------------------------------+\n",
      "only showing top 5 rows\n",
      "\n"
     ]
    }
   ],
   "source": [
    "array.show(5,False)"
   ]
  },
  {
   "cell_type": "markdown",
   "id": "b222a0b6",
   "metadata": {},
   "source": [
    "#### Get titles which has the word MARRIAGE in it.\n",
    "\n",
    "There are multiple ways to do this."
   ]
  },
  {
   "cell_type": "code",
   "execution_count": 41,
   "id": "9b9c59e8",
   "metadata": {},
   "outputs": [
    {
     "name": "stdout",
     "output_type": "stream",
     "text": [
      "+----------------------------------+-----------------------------+\n",
      "|title                             |array_contains(new, MARRIAGE)|\n",
      "+----------------------------------+-----------------------------+\n",
      "|WE WANT TO TALK ABOUT OUR MARRIAGE|true                         |\n",
      "+----------------------------------+-----------------------------+\n",
      "only showing top 1 row\n",
      "\n"
     ]
    }
   ],
   "source": [
    "array.select(\"title\",array_contains(array.new,\"MARRIAGE\")).show(1,False)"
   ]
  },
  {
   "cell_type": "markdown",
   "id": "e8dcc0f4",
   "metadata": {},
   "source": [
    "#### Get distinct entries into a column of arrays"
   ]
  },
  {
   "cell_type": "code",
   "execution_count": 43,
   "id": "d37cbb77",
   "metadata": {},
   "outputs": [
    {
     "name": "stdout",
     "output_type": "stream",
     "text": [
      "+--------------------------------------------------------------+-------------------------------------------------------------------------+\n",
      "|title                                                         |array_distinct(new)                                                      |\n",
      "+--------------------------------------------------------------+-------------------------------------------------------------------------+\n",
      "|WE WANT TO TALK ABOUT OUR MARRIAGE                            |[WE, WANT, TO, TALK, ABOUT, OUR, MARRIAGE]                               |\n",
      "|The Trump Presidency: Last Week Tonight with John Oliver (HBO)|[The, Trump, Presidency:, Last, Week, Tonight, with, John, Oliver, (HBO)]|\n",
      "|Racist Superman | Rudy Mancuso, King Bach & Lele Pons         |[Racist, Superman, |, Rudy, Mancuso,, King, Bach, &, Lele, Pons]         |\n",
      "|Nickelback Lyrics: Real or Fake?                              |[Nickelback, Lyrics:, Real, or, Fake?]                                   |\n",
      "|I Dare You: GOING BALD!?                                      |[I, Dare, You:, GOING, BALD!?]                                           |\n",
      "+--------------------------------------------------------------+-------------------------------------------------------------------------+\n",
      "only showing top 5 rows\n",
      "\n"
     ]
    }
   ],
   "source": [
    "array.select(\"title\",array_distinct(array.new)).show(5,False)"
   ]
  },
  {
   "cell_type": "markdown",
   "id": "f7153c9a",
   "metadata": {},
   "source": [
    "#### Remove elements from array in column"
   ]
  },
  {
   "cell_type": "code",
   "execution_count": 44,
   "id": "696630df",
   "metadata": {},
   "outputs": [
    {
     "name": "stdout",
     "output_type": "stream",
     "text": [
      "+--------------------------------------------------------------+-------------------------------------------------------------------------+\n",
      "|title                                                         |array_remove(new, WE)                                                    |\n",
      "+--------------------------------------------------------------+-------------------------------------------------------------------------+\n",
      "|WE WANT TO TALK ABOUT OUR MARRIAGE                            |[WANT, TO, TALK, ABOUT, OUR, MARRIAGE]                                   |\n",
      "|The Trump Presidency: Last Week Tonight with John Oliver (HBO)|[The, Trump, Presidency:, Last, Week, Tonight, with, John, Oliver, (HBO)]|\n",
      "|Racist Superman | Rudy Mancuso, King Bach & Lele Pons         |[Racist, Superman, |, Rudy, Mancuso,, King, Bach, &, Lele, Pons]         |\n",
      "|Nickelback Lyrics: Real or Fake?                              |[Nickelback, Lyrics:, Real, or, Fake?]                                   |\n",
      "|I Dare You: GOING BALD!?                                      |[I, Dare, You:, GOING, BALD!?]                                           |\n",
      "+--------------------------------------------------------------+-------------------------------------------------------------------------+\n",
      "only showing top 5 rows\n",
      "\n"
     ]
    }
   ],
   "source": [
    "array.select(\"title\",array_remove(array.new,\"WE\")).show(5,False)"
   ]
  },
  {
   "cell_type": "markdown",
   "id": "e4a16b0e",
   "metadata": {},
   "source": [
    "### So we want to apply a function that is user-defined to a column\n",
    "We do this by registering our functions as a user defined function like below"
   ]
  },
  {
   "cell_type": "code",
   "execution_count": 45,
   "id": "758be81a",
   "metadata": {},
   "outputs": [],
   "source": [
    "from pyspark.sql.functions import udf\n",
    "from pyspark.sql.types import IntegerType"
   ]
  },
  {
   "cell_type": "code",
   "execution_count": 46,
   "id": "fb05cdb6",
   "metadata": {},
   "outputs": [],
   "source": [
    "def square(x):\n",
    "    return int(x**2)"
   ]
  },
  {
   "cell_type": "code",
   "execution_count": 47,
   "id": "5991d144",
   "metadata": {},
   "outputs": [],
   "source": [
    "square_udf = udf(lambda z:square(z),IntegerType())"
   ]
  },
  {
   "cell_type": "code",
   "execution_count": 48,
   "id": "3e8e7490",
   "metadata": {},
   "outputs": [
    {
     "name": "stdout",
     "output_type": "stream",
     "text": [
      "+--------+------------------+\n",
      "|dislikes|<lambda>(dislikes)|\n",
      "+--------+------------------+\n",
      "|    2966|           8797156|\n",
      "|    6146|          37773316|\n",
      "|    5339|          28504921|\n",
      "|     666|            443556|\n",
      "|    1989|           3956121|\n",
      "+--------+------------------+\n",
      "only showing top 5 rows\n",
      "\n"
     ]
    }
   ],
   "source": [
    "df.select(\"dislikes\",square_udf('dislikes')).where(col(\"dislikes\").isNotNull()).show(5)"
   ]
  }
 ],
 "metadata": {
  "kernelspec": {
   "display_name": "mlenv",
   "language": "python",
   "name": "mlenv"
  },
  "language_info": {
   "codemirror_mode": {
    "name": "ipython",
    "version": 3
   },
   "file_extension": ".py",
   "mimetype": "text/x-python",
   "name": "python",
   "nbconvert_exporter": "python",
   "pygments_lexer": "ipython3",
   "version": "3.8.5"
  }
 },
 "nbformat": 4,
 "nbformat_minor": 5
}
